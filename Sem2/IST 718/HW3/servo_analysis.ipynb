{
 "cells": [
  {
   "cell_type": "markdown",
   "metadata": {
    "deletable": false,
    "editable": false,
    "nbgrader": {
     "checksum": "4e6cefb0049d48a2f4648d752841bb06",
     "grade": false,
     "grade_id": "cell-b038e38b5e3072a9",
     "locked": true,
     "schema_version": 1,
     "solution": false
    }
   },
   "source": [
    "# IST 718: Big Data Analytics\n",
    "\n",
    "- Professor: Daniel Acuna <deacuna@syr.edu>\n",
    "- TAs: Tong Zeng <tozeng@syr.edu>, Priya Matnani <psmatnan@syr.edu>\n",
    "\n",
    "## General instructions:\n",
    "\n",
    "- You are welcome to discuss the problems with your classmates but __you are not allowed to copy any part of your answers either from your classmates or from the internet__\n",
    "- You can put the homework files anywhere you want in your http://notebook.acuna.io workspace but _do not change_ the file names. The TAs and the professor use these names to grade your homework.\n",
    "- Remove or comment out code that contains `raise NotImplementedError`. This is mainly to make the `assert` statement fail if nothing is submitted.\n",
    "- The tests shown in some cells (i.e., `assert` and `np.testing.` statements) are used to grade your answers. **However, the professor and TAs will use __additional__ test for your answer. Think about cases where your code should run even if it passess all the tests you see.**\n",
    "- Before downloading and submitting your work through Blackboard, remember to save and press `Validate` (or go to \n",
    "`Kernel`$\\rightarrow$`Restart and Run All`). \n",
    "- Good luck!"
   ]
  },
  {
   "cell_type": "code",
   "execution_count": 1,
   "metadata": {},
   "outputs": [],
   "source": [
    "# Load the packages needed for this part\n",
    "# create spark and sparkcontext objects\n",
    "from pyspark.sql import SparkSession\n",
    "import numpy as np\n",
    "\n",
    "spark = SparkSession.builder.getOrCreate()\n",
    "sc = spark.sparkContext\n",
    "\n",
    "import pyspark\n",
    "from pyspark.ml import feature, regression, Pipeline\n",
    "from pyspark.sql import functions as fn, Row\n",
    "from pyspark import sql\n",
    "\n",
    "import matplotlib.pyplot as plt\n",
    "import pandas as pd"
   ]
  },
  {
   "cell_type": "markdown",
   "metadata": {},
   "source": [
    "# Part 1: Servo analysis\n",
    "\n",
    "In this assignment, you will continue the analysis we started in class of the Servo dataset."
   ]
  },
  {
   "cell_type": "markdown",
   "metadata": {},
   "source": [
    "# Servo data analysis\n",
    "\n",
    "```console\n",
    "1. Title: Servo Data\n",
    "\n",
    "2. Sources\n",
    "   (a) Created by: Karl Ulrich (MIT) in 1986\n",
    "   (b) Donor: Ross Quinlan\n",
    "   (c) Date: May 1993\n",
    "\n",
    "3. Past Usage:\n",
    "\n",
    "   1.  Quinlan, J.R., \"Learning with continuous classes\", Proc. 5th Australian\n",
    "       Joint Conference on AI (eds A. Adams and L. Sterling), Singapore: World\n",
    "       Scientific, 1992\n",
    " \n",
    "   2.  Quinlan, J.R., \"Combining instance-based and model-based learning\",\n",
    "       Proc. ML'93 (ed P.E. Utgoff), San Mateo: Morgan Kaufmann 1993\n",
    " \n",
    "       Results on 10-way cross-validation:\n",
    " \n",
    "       Method\t\t\tAverage\t\tRelative\n",
    "       ------\t\t\t |Err|\t\t Error\n",
    " \t\t\t\t-------\t\t--------\n",
    " \n",
    "       Guessing mean\t\t  1.15\t\t  1.00\n",
    "       Instance-based\t\t   .52\t\t   .26\n",
    "       Regression\t\t   .86\t\t   .49\n",
    "       Model trees\t\t   .45\t\t   .29\n",
    "       Neural nets (G. Hinton)\t   .30\t\t   .11\n",
    "       Regression+instances\t   .48\t\t   .20\n",
    "       Model trees+instances\t   .30\t\t   .17\n",
    "       NN+instances\t\t   .29\t\t   .11\n",
    " \n",
    "4. Relevant Information:\n",
    "\n",
    "   Ross Quinlan:\n",
    "\n",
    "   This data was given to me by Karl Ulrich at MIT in 1986.  I didn't \n",
    "   record his description at the time, but here's his subsequent (1992) \n",
    "   recollection:\n",
    " \n",
    "     \"I seem to remember that the data was from a simulation of a servo\n",
    "     system involving a servo amplifier, a motor, a lead screw/nut, and a\n",
    "     sliding carriage of some sort.  It may have been on of the\n",
    "     translational axes of a robot on the 9th floor of the AI lab.  In any\n",
    "     case, the output value is almost certainly a rise time, or the time\n",
    "     required for the system to respond to a step change in a position set\n",
    "     point.\"\n",
    " \n",
    "   (Quinlan, ML'93)\n",
    "\n",
    "   \"This is an interesting collection of data provided by Karl \n",
    "    Ulrich.  It covers an extremely non-linear phenomenon - predicting the \n",
    "    rise time of a servomechanism in terms of two (continuous) gain settings\n",
    "    and two (discrete) choices of mechanical linkages.\"\n",
    "\n",
    "5. Number of Instances: 167\n",
    "\n",
    "6. Number of Attributes: 4 + numeric class attribute\n",
    "\n",
    "7. Attribute information:\n",
    "\n",
    "   1. motor: A,B,C,D,E\n",
    "   2. screw: A,B,C,D,E\n",
    "   3. pgain: 3,4,5,6\n",
    "   4. vgain: 1,2,3,4,5\n",
    "   5. class: 0.13 to 7.10\n",
    "\n",
    "8. Missing Attribute Values: None\n",
    "```"
   ]
  },
  {
   "cell_type": "code",
   "execution_count": 2,
   "metadata": {},
   "outputs": [],
   "source": [
    "# Load the data\n",
    "servo_df = spark.createDataFrame(pd.read_csv('servo.data', \n",
    "            sep=',', \n",
    "            header=None,\n",
    "            names=['motor', 'screw', 'pgain', 'vgain', 'rise_time']))"
   ]
  },
  {
   "cell_type": "markdown",
   "metadata": {},
   "source": [
    "# 1. Explore the data"
   ]
  },
  {
   "cell_type": "markdown",
   "metadata": {},
   "source": [
    "With big data, datasets can be too big to bring them into the Spark client. However, we can use the `limit` method of a dataframe to limit the number of rows to bring as a Pandas dataframe"
   ]
  },
  {
   "cell_type": "markdown",
   "metadata": {},
   "source": [
    "Create a dataframe `servo_sample_df` with the first 20 rows of `servo_df`."
   ]
  },
  {
   "cell_type": "code",
   "execution_count": 3,
   "metadata": {
    "deletable": false,
    "nbgrader": {
     "checksum": "451a05ca5f0fd8171dacfea14ac9ba5f",
     "grade": false,
     "grade_id": "cell-c9d521c675b461ab",
     "locked": false,
     "schema_version": 1,
     "solution": true
    }
   },
   "outputs": [
    {
     "data": {
      "text/plain": [
       "DataFrame[motor: string, screw: string, pgain: bigint, vgain: bigint, rise_time: double]"
      ]
     },
     "execution_count": 3,
     "metadata": {},
     "output_type": "execute_result"
    }
   ],
   "source": [
    "# create `servo_sample_df`\n",
    "servo_sample_df = servo_df.limit(20)\n",
    "servo_sample_df"
   ]
  },
  {
   "cell_type": "code",
   "execution_count": 4,
   "metadata": {
    "deletable": false,
    "editable": false,
    "nbgrader": {
     "checksum": "43a81391a0c03b713650167c51d422a8",
     "grade": true,
     "grade_id": "cell-945bf936abee733a",
     "locked": true,
     "points": 2,
     "schema_version": 1,
     "solution": false
    }
   },
   "outputs": [],
   "source": [
    "# 2 pts - right number of rows\n",
    "np.testing.assert_equal(servo_sample_df.count(), 20)"
   ]
  },
  {
   "cell_type": "markdown",
   "metadata": {},
   "source": [
    "**(3 pts)** Below, transform `servo_sample_df` into a Pandas dataframe and do a scatter plot of `pgain` vs `rise_time`"
   ]
  },
  {
   "cell_type": "code",
   "execution_count": 5,
   "metadata": {
    "deletable": false,
    "nbgrader": {
     "checksum": "9d391fad8156223a222178d6b656f6dc",
     "grade": true,
     "grade_id": "cell-1df4f53b56e45b6e",
     "locked": false,
     "points": 3,
     "schema_version": 1,
     "solution": true
    }
   },
   "outputs": [
    {
     "data": {
      "text/plain": [
       "<matplotlib.axes._subplots.AxesSubplot at 0x7fcbe3e620b8>"
      ]
     },
     "execution_count": 5,
     "metadata": {},
     "output_type": "execute_result"
    },
    {
     "data": {
      "image/png": "[encoded data removed]",
      "text/plain": [
       "<Figure size 432x288 with 1 Axes>"
      ]
     },
     "metadata": {
      "needs_background": "light"
     },
     "output_type": "display_data"
    }
   ],
   "source": [
    "servo_sample_df.toPandas().plot.scatter(x='rise_time',y='pgain',title='Relationship between pgain and rise_time')"
   ]
  },
  {
   "cell_type": "markdown",
   "metadata": {},
   "source": [
    "**(3 pts)** Below, transform `servo_sample_df` into a Pandas dataframe and do a scatter plot of `vgain` vs `rise_time`"
   ]
  },
  {
   "cell_type": "code",
   "execution_count": 6,
   "metadata": {
    "deletable": false,
    "nbgrader": {
     "checksum": "fba3bc6e5a7085effcbedb3f55e6ac55",
     "grade": true,
     "grade_id": "cell-35b7ad7b19c37628",
     "locked": false,
     "points": 3,
     "schema_version": 1,
     "solution": true
    }
   },
   "outputs": [
    {
     "data": {
      "text/plain": [
       "<matplotlib.axes._subplots.AxesSubplot at 0x7fcbe3e10c88>"
      ]
     },
     "execution_count": 6,
     "metadata": {},
     "output_type": "execute_result"
    },
    {
     "data": {
      "image/png": "[encoded data removed]",
      "text/plain": [
       "<Figure size 432x288 with 1 Axes>"
      ]
     },
     "metadata": {
      "needs_background": "light"
     },
     "output_type": "display_data"
    }
   ],
   "source": [
    "servo_sample_df.toPandas().plot.scatter(x='rise_time',y='vgain',title='Relationship between vgain and rise_time')"
   ]
  },
  {
   "cell_type": "markdown",
   "metadata": {},
   "source": [
    "## Perform correlations between vgain-rise time, pgain-rise time, and vgain-pgain"
   ]
  },
  {
   "cell_type": "markdown",
   "metadata": {},
   "source": [
    "Create a `servo_corr_df` dataframe that contains the correlations between `vgain` and `rise_time` as a column `corr_vgain_rise_time`, between `pgain` and `rise_time` as `corr_pgain_rise_time`, and `vgain` and `pgain` as `corr_vgain_pgain`."
   ]
  },
  {
   "cell_type": "code",
   "execution_count": 7,
   "metadata": {
    "deletable": false,
    "nbgrader": {
     "checksum": "d63807a257294b716b517f2cc48dea12",
     "grade": false,
     "grade_id": "cell-f59db3726a6aa941",
     "locked": false,
     "schema_version": 1,
     "solution": true
    }
   },
   "outputs": [],
   "source": [
    "corr_pgain_rise_time = servo_df.stat.corr('pgain', 'rise_time')\n",
    "corr_vgain_rise_time = servo_df.stat.corr('vgain', 'rise_time')\n",
    "corr_vgain_pgain = servo_df.stat.corr('vgain', 'pgain')\n",
    "mylist = [(corr_vgain_rise_time,corr_pgain_rise_time, corr_vgain_pgain)]\n",
    "servo_corr_df = spark.createDataFrame(mylist, ['corr_pgain_rise_time', 'corr_vgain_pgain', 'corr_vgain_rise_time'])\n"
   ]
  },
  {
   "cell_type": "code",
   "execution_count": 8,
   "metadata": {
    "deletable": false,
    "editable": false,
    "nbgrader": {
     "checksum": "63043687d2890640bf59ccf9fcabe580",
     "grade": true,
     "grade_id": "cell-fe722ee58305de94",
     "locked": true,
     "points": 2,
     "schema_version": 1,
     "solution": false
    }
   },
   "outputs": [],
   "source": [
    "## 7 pts\n",
    "np.testing.assert_equal(set(servo_corr_df.columns), \n",
    "                        {'corr_pgain_rise_time', 'corr_vgain_pgain', 'corr_vgain_rise_time'})\n",
    "np.testing.assert_almost_equal(list(servo_corr_df.first().asDict().values()),\n",
    "                               [-0.36438266626914595, -0.5981287119612234, 0.8122683058183874], decimal=3)"
   ]
  },
  {
   "cell_type": "markdown",
   "metadata": {},
   "source": [
    "## Compute mean rise_time for different motors and screws"
   ]
  },
  {
   "cell_type": "markdown",
   "metadata": {},
   "source": [
    "Create `motor_rise_time_df` with the column `motor` and `avg_rise_time`, where `avg_rise_time` is the average rise time for a motor. Sort the resulting dataframe from highest to lowest average rise time."
   ]
  },
  {
   "cell_type": "code",
   "execution_count": 9,
   "metadata": {
    "deletable": false,
    "nbgrader": {
     "checksum": "ad93ae6ce6e96f87f92ad0cea9481137",
     "grade": false,
     "grade_id": "cell-98ecb41cfdc326a3",
     "locked": false,
     "schema_version": 1,
     "solution": true
    }
   },
   "outputs": [
    {
     "data": {
      "text/plain": [
       "DataFrame[motor: string, avg_rise_time: double]"
      ]
     },
     "execution_count": 9,
     "metadata": {},
     "output_type": "execute_result"
    }
   ],
   "source": [
    "raw_value=servo_df.groupBy('motor').agg({\"rise_time\": \"avg\"}).collect()\n",
    "unsorted_df= spark.createDataFrame(raw_value, ['motor', 'avg_rise_time'])\n",
    "motor_rise_time_df = unsorted_df.orderBy('avg_rise_time', ascending=False)\n",
    "motor_rise_time_df"
   ]
  },
  {
   "cell_type": "code",
   "execution_count": 10,
   "metadata": {
    "deletable": false,
    "editable": false,
    "nbgrader": {
     "checksum": "6f7434dd709bd1f10a5cb88b13e8b48d",
     "grade": true,
     "grade_id": "cell-a3fd7964078508ad",
     "locked": true,
     "points": 3,
     "schema_version": 1,
     "solution": false
    }
   },
   "outputs": [],
   "source": [
    "# 3 pts\n",
    "np.testing.assert_array_equal(np.array(motor_rise_time_df.rdd.map(lambda x: list(x.asDict().values())).collect()),\n",
    "                                  [['A', '1.761110668888889'],\n",
    "       ['B', '1.6819423677777776'],\n",
    "       ['C', '1.2540610067500002'],\n",
    "       ['E', '1.1448932081818182'],\n",
    "       ['D', '0.9176125145454544']])"
   ]
  },
  {
   "cell_type": "markdown",
   "metadata": {},
   "source": [
    "Create `screw_rise_time_df` with the column `screw` and `avg_rise_time` sorted from highest to lowest average rise time."
   ]
  },
  {
   "cell_type": "code",
   "execution_count": 11,
   "metadata": {
    "deletable": false,
    "nbgrader": {
     "checksum": "b2a40fc0219dc6b18a898e6b8557110c",
     "grade": false,
     "grade_id": "cell-8ace067a04ebf09a",
     "locked": false,
     "schema_version": 1,
     "solution": true
    }
   },
   "outputs": [
    {
     "data": {
      "text/plain": [
       "DataFrame[screw: string, avg_rise_time: double]"
      ]
     },
     "execution_count": 11,
     "metadata": {},
     "output_type": "execute_result"
    }
   ],
   "source": [
    "raw_value2=servo_df.groupBy('screw').agg({\"rise_time\": \"avg\"}).collect()\n",
    "unsorted_df2= spark.createDataFrame(raw_value2, ['screw', 'avg_rise_time'])\n",
    "screw_rise_time_df = unsorted_df2.orderBy('avg_rise_time', ascending=False)\n",
    "screw_rise_time_df"
   ]
  },
  {
   "cell_type": "code",
   "execution_count": 12,
   "metadata": {
    "deletable": false,
    "editable": false,
    "nbgrader": {
     "checksum": "44a393ea9875eb532d39441c2d17619e",
     "grade": true,
     "grade_id": "cell-e72d1676e16b246b",
     "locked": true,
     "points": 3,
     "schema_version": 1,
     "solution": false
    }
   },
   "outputs": [],
   "source": [
    "# 3 pts\n",
    "np.testing.assert_array_equal(np.array(screw_rise_time_df.rdd.map(lambda x: list(x.asDict().values())).collect()),\n",
    "                                  [['A', '1.768461212142857'],\n",
    "       ['B', '1.3919625091428571'],\n",
    "       ['C', '1.2485862280645161'],\n",
    "       ['E', '1.2256432917241378'],\n",
    "       ['D', '1.1612471173333332']])"
   ]
  },
  {
   "cell_type": "markdown",
   "metadata": {},
   "source": [
    "# Feature engineering"
   ]
  },
  {
   "cell_type": "markdown",
   "metadata": {},
   "source": [
    "## Dummy variables for motors and screws\n",
    "Create a dataframe `dummy_df` with columns `motor` and `screw` as dummy variables, and columns `vgain`, `pgain`, and `rise_time`. Use motor D and screw C as the baselines and name the dummy variables `motor_A` for motor `A` and so on. Follow a similar pattern for screw. The dataframe `dummy_df` should not contain the columns `motor` and `screw` but only their dummy variable representations. **All column types should be float or integer.**"
   ]
  },
  {
   "cell_type": "code",
   "execution_count": 13,
   "metadata": {},
   "outputs": [],
   "source": [
    "\n",
    "dummy_df = servo_df.withColumn('motor_A',(fn.col('motor') =='A').cast('int')).\\\n",
    "        withColumn('motor_B',(fn.col('motor') =='B').cast('int')).\\\n",
    "        withColumn('motor_C',(fn.col('motor') =='C').cast('int')).\\\n",
    "        withColumn('motor_E',(fn.col('motor') =='E').cast('int')).\\\n",
    "        withColumn('screw_A',(fn.col('screw') =='A').cast('int')).\\\n",
    "        withColumn('screw_B',(fn.col('screw') =='B').cast('int')).\\\n",
    "        withColumn('screw_D',(fn.col('screw') =='D').cast('int')).\\\n",
    "        withColumn('screw_E',(fn.col('screw') =='E').cast('int')).drop('motor','screw')\n",
    "#dummy_df.count()\n",
    "dummy_df = dummy_df.select('motor_A','motor_B','motor_C','motor_E','screw_A','screw_B','screw_D',\\\n",
    "                           'screw_E','vgain','pgain','rise_time')"
   ]
  },
  {
   "cell_type": "code",
   "execution_count": 14,
   "metadata": {
    "deletable": false,
    "editable": false,
    "nbgrader": {
     "checksum": "96fb38fe86a81d33a6ac952be9fb1b34",
     "grade": true,
     "grade_id": "cell-9fdc091f4ff491bf",
     "locked": true,
     "points": 3,
     "schema_version": 1,
     "solution": false
    }
   },
   "outputs": [],
   "source": [
    "# 3 pts\n",
    "np.testing.assert_equal(len(dummy_df.columns), 11)\n",
    "np.testing.assert_equal(dummy_df.select(fn.sum('motor_A')).first()['sum(motor_A)'], 36)\n",
    "np.testing.assert_equal(dummy_df.select(fn.sum('screw_A')).first()['sum(screw_A)'], 42)\n",
    "np.testing.assert_equal(set(dummy_df.columns), {'motor_A',\n",
    " 'motor_B',\n",
    " 'motor_C',\n",
    " 'motor_E',\n",
    " 'pgain',\n",
    " 'rise_time',\n",
    " 'screw_A',\n",
    " 'screw_B',\n",
    " 'screw_D',\n",
    " 'screw_E',\n",
    " 'vgain'})\n",
    "np.testing.assert_approx_equal(dummy_df.rdd.flatMap(lambda x: x.asDict().values()).sum(), \n",
    "                              1631.0813007799998, significant=2)"
   ]
  },
  {
   "cell_type": "markdown",
   "metadata": {},
   "source": [
    "# Model comparison\n",
    "\n",
    "In the next set of questions, you will use the splits below to fit, validate, and estimate the generalization error of your models. The `randomSplit` is called with a seed so that it does not change from what the professor used."
   ]
  },
  {
   "cell_type": "code",
   "execution_count": 15,
   "metadata": {
    "deletable": false,
    "editable": false,
    "nbgrader": {
     "checksum": "679501d8b3b5eca4b45bb5ce33c85bd2",
     "grade": false,
     "grade_id": "cell-50d140f5bb9fb0a6",
     "locked": true,
     "schema_version": 1,
     "solution": false
    }
   },
   "outputs": [
    {
     "name": "stdout",
     "output_type": "stream",
     "text": [
      "# points in training:  111\n",
      "# points in validation:  42\n",
      "# points in testing:  14\n"
     ]
    }
   ],
   "source": [
    "training_df, validation_df, testing_df = dummy_df.randomSplit([0.6, 0.3, 0.1], seed=0)\n",
    "print(\"# points in training: \", training_df.count())\n",
    "print(\"# points in validation: \", validation_df.count())\n",
    "print(\"# points in testing: \", testing_df.count())"
   ]
  },
  {
   "cell_type": "code",
   "execution_count": null,
   "metadata": {
    "deletable": false,
    "nbgrader": {
     "checksum": "50bd1d331eeeeecabad0c2c873438372",
     "grade": false,
     "grade_id": "cell-eb211f716041febd",
     "locked": false,
     "schema_version": 1,
     "solution": true
    }
   },
   "outputs": [],
   "source": []
  },
  {
   "cell_type": "code",
   "execution_count": 16,
   "metadata": {},
   "outputs": [],
   "source": [
    "#servo_df.withColumn('motor_A',when(fn.col('motor')=='A',1).otherwise(0)).show()"
   ]
  },
  {
   "cell_type": "markdown",
   "metadata": {},
   "source": [
    "## Propose three regression models\n",
    "\n",
    "In the next section, you will choose the best model to explain the data in `servo_df`. Select the right split of the data for the right step of the process (i.e., training, validation, and testing)"
   ]
  },
  {
   "cell_type": "markdown",
   "metadata": {},
   "source": [
    "### Model 1: Fit model with only `pgain`\n",
    "\n",
    "Create a pipeline that takes *pgain* as a feature to predict *rise time* and fits a linear regression model. You should start your pipeline by taking the appropriate column or columns from `dummy_df` in which the raw feature `pgain` may or may not have been feature engineered. Assign the fit pipeline transformer to `pipe_model1`. Your pipeline must have one vector assembler followed by a linear regression."
   ]
  },
  {
   "cell_type": "code",
   "execution_count": 17,
   "metadata": {
    "deletable": false,
    "nbgrader": {
     "checksum": "e13dd6486f50f9fdd385d0e435a808b5",
     "grade": false,
     "grade_id": "cell-3b76b5c1134779fc",
     "locked": false,
     "schema_version": 1,
     "solution": true
    }
   },
   "outputs": [],
   "source": [
    "pipe_model1 = Pipeline(stages=[\n",
    "    feature.VectorAssembler(inputCols=['pgain'],outputCol='feature'),\n",
    "    regression.LinearRegression(featuresCol='feature',labelCol='rise_time')\n",
    "]).fit(training_df)"
   ]
  },
  {
   "cell_type": "code",
   "execution_count": 18,
   "metadata": {},
   "outputs": [
    {
     "data": {
      "text/plain": [
       "DenseVector([-0.8483])"
      ]
     },
     "execution_count": 18,
     "metadata": {},
     "output_type": "execute_result"
    }
   ],
   "source": [
    "pipe_model1.stages[1].coefficients"
   ]
  },
  {
   "cell_type": "code",
   "execution_count": 19,
   "metadata": {},
   "outputs": [
    {
     "data": {
      "text/plain": [
       "4.899196242314745"
      ]
     },
     "execution_count": 19,
     "metadata": {},
     "output_type": "execute_result"
    }
   ],
   "source": [
    "pipe_model1.stages[1].intercept"
   ]
  },
  {
   "cell_type": "code",
   "execution_count": 20,
   "metadata": {},
   "outputs": [
    {
     "name": "stdout",
     "output_type": "stream",
     "text": [
      "+----------------------------------+\n",
      "|POWER((rise_time - prediction), 2)|\n",
      "+----------------------------------+\n",
      "|                 2.115151053883269|\n",
      "|               0.22545739301604853|\n",
      "|                 1.573411457590435|\n",
      "|               0.14178729523786796|\n",
      "|                   9.8952775618241|\n",
      "|                0.4854393298747629|\n",
      "|                1.6895497069265437|\n",
      "|                0.5391011276354413|\n",
      "|                1.0760431116806373|\n",
      "|                0.5955753932227659|\n",
      "|                3.0471560536960043|\n",
      "|                0.3904026426754147|\n",
      "|               0.48975172580277815|\n",
      "|               0.13128428895518035|\n",
      "|               0.42819314711636436|\n",
      "|                 1.500199437780706|\n",
      "|                0.9996495083533237|\n",
      "|               0.43867088049790304|\n",
      "|                 2.115151053883269|\n",
      "|                 22.52214980438413|\n",
      "+----------------------------------+\n",
      "only showing top 20 rows\n",
      "\n"
     ]
    }
   ],
   "source": [
    "pipe_model1.transform(validation_df).select('rise_time','prediction').\\\n",
    "                            select((fn.col('rise_time')-fn.col('prediction'))**2).show()"
   ]
  },
  {
   "cell_type": "code",
   "execution_count": 21,
   "metadata": {
    "deletable": false,
    "editable": false,
    "nbgrader": {
     "checksum": "b1c239aa677cdd76caa08a036ae4cffd",
     "grade": true,
     "grade_id": "cell-3944466629fee9da",
     "locked": true,
     "points": 5,
     "schema_version": 1,
     "solution": false
    }
   },
   "outputs": [],
   "source": [
    "# (5 pts)\n",
    "np.testing.assert_equal(type(pipe_model1.stages[0]), feature.VectorAssembler)\n",
    "np.testing.assert_equal(type(pipe_model1.stages[1]), regression.LinearRegressionModel)\n",
    "np.testing.assert_array_equal(pipe_model1.stages[1].coefficients.shape, (1,))"
   ]
  },
  {
   "cell_type": "markdown",
   "metadata": {},
   "source": [
    "### Model 2: Fit model with only `vgain`\n",
    "\n",
    "Follow the same idea as above and create a pipeline transformer `pipe_model2`"
   ]
  },
  {
   "cell_type": "code",
   "execution_count": 22,
   "metadata": {
    "deletable": false,
    "nbgrader": {
     "checksum": "a9befb44f4f0a022cff725205ae67877",
     "grade": false,
     "grade_id": "cell-52aee024a8f17921",
     "locked": false,
     "schema_version": 1,
     "solution": true
    }
   },
   "outputs": [],
   "source": [
    "pipe_model2 = Pipeline(stages=[\n",
    "    feature.VectorAssembler(inputCols=['vgain'],outputCol='feature'),\n",
    "    regression.LinearRegression(featuresCol='feature',labelCol='rise_time')\n",
    "]).fit(training_df)"
   ]
  },
  {
   "cell_type": "code",
   "execution_count": 23,
   "metadata": {},
   "outputs": [
    {
     "data": {
      "text/plain": [
       "2.306617793917703"
      ]
     },
     "execution_count": 23,
     "metadata": {},
     "output_type": "execute_result"
    }
   ],
   "source": [
    "pipe_model2.stages[1].intercept"
   ]
  },
  {
   "cell_type": "code",
   "execution_count": 24,
   "metadata": {
    "deletable": false,
    "editable": false,
    "nbgrader": {
     "checksum": "4932a21cd41306da5c217705433507f7",
     "grade": true,
     "grade_id": "cell-d278316c89d97741",
     "locked": true,
     "points": 5,
     "schema_version": 1,
     "solution": false
    }
   },
   "outputs": [],
   "source": [
    "# (5 pts)\n",
    "np.testing.assert_equal(type(pipe_model2.stages[0]), feature.VectorAssembler)\n",
    "np.testing.assert_equal(type(pipe_model2.stages[1]), regression.LinearRegressionModel)\n",
    "np.testing.assert_array_equal(pipe_model2.stages[1].coefficients.shape, (1,))"
   ]
  },
  {
   "cell_type": "markdown",
   "metadata": {},
   "source": [
    "### Model 3: Fit model with only motor, screw, pgain, and vgain\n",
    "\n",
    "Follow the same idea as above and create a pipeline transformer `pipe_model3`. Remember that some features have been feature engineered. In particular, use the transformed columns in the order: motor, screw, pgain, and vgain. Choose the columns from `dummy_df` appropriately."
   ]
  },
  {
   "cell_type": "code",
   "execution_count": 25,
   "metadata": {
    "deletable": false,
    "nbgrader": {
     "checksum": "35a8633d09ab0c29fd669fee3c06e97a",
     "grade": false,
     "grade_id": "cell-c120f9f58afe1ee6",
     "locked": false,
     "schema_version": 1,
     "solution": true
    }
   },
   "outputs": [],
   "source": [
    "pipe_model3 = Pipeline(stages=[\n",
    "    feature.VectorAssembler(inputCols=['motor_A','motor_B','motor_C','motor_E','screw_A','screw_B','screw_D','screw_E','pgain','vgain'],outputCol='feature'),\n",
    "    regression.LinearRegression(featuresCol='feature',labelCol='rise_time')\n",
    "]).fit(training_df)"
   ]
  },
  {
   "cell_type": "code",
   "execution_count": 26,
   "metadata": {},
   "outputs": [],
   "source": [
    "#training_df\n",
    "#pipe_model3.stages[1].coefficients\n",
    "#pipe_model3.stages[1].intercept"
   ]
  },
  {
   "cell_type": "code",
   "execution_count": 27,
   "metadata": {
    "deletable": false,
    "editable": false,
    "nbgrader": {
     "checksum": "e0a418d748f8c9237477fcbbbecaf6d0",
     "grade": true,
     "grade_id": "cell-1cfd038a4f349405",
     "locked": true,
     "points": 5,
     "schema_version": 1,
     "solution": false
    }
   },
   "outputs": [],
   "source": [
    "# (5 pts)\n",
    "np.testing.assert_equal(type(pipe_model3.stages[0]), feature.VectorAssembler)\n",
    "np.testing.assert_equal(type(pipe_model3.stages[1]), regression.LinearRegressionModel)\n",
    "np.testing.assert_array_equal(pipe_model3.stages[1].coefficients.shape, (10,))\n",
    "np.testing.assert_array_almost_equal(pipe_model3.stages[1].coefficients, \n",
    "    [1.3905, 1.2263, 1.0493, 0.6748, 0.9922, 0.3871, -0.0486, -0.0787, -1.5026, 0.5127],\n",
    "                                     decimal=1)\n",
    "np.testing.assert_array_almost_equal(pipe_model3.stages[1].intercept, 5.038209913496485, decimal=1)"
   ]
  },
  {
   "cell_type": "markdown",
   "metadata": {},
   "source": [
    "# Compare models"
   ]
  },
  {
   "cell_type": "markdown",
   "metadata": {},
   "source": [
    "### Estimate RMSE on validation data for the three models\n",
    "\n",
    "Create three dataframes `rmse1_df`, `rmse2_df`, and `rmse3_df` for models 1, 2, and 3, respectively, with only with column `rmse`"
   ]
  },
  {
   "cell_type": "code",
   "execution_count": 28,
   "metadata": {
    "deletable": false,
    "nbgrader": {
     "checksum": "dc5e62f02884fcce8ae909945800700f",
     "grade": false,
     "grade_id": "cell-a9dc54b0e8d696ef",
     "locked": false,
     "schema_version": 1,
     "solution": true
    }
   },
   "outputs": [],
   "source": [
    "from pyspark.sql.functions import *\n",
    "# create rmse1_df, rmse2_df, and rmse3_df dataframes below\n",
    "mse = fn.mean((fn.col('rise_time') - fn.col('prediction'))**2).alias('mse')\n",
    "rmse = sqrt(mse).alias('rmse')\n",
    "\n",
    "rmse1_df = pipe_model1.transform(validation_df).select(rmse)\n",
    "rmse2_df = pipe_model2.transform(validation_df).select(rmse)\n",
    "rmse3_df = pipe_model3.transform(validation_df).select(rmse)\n",
    "\n"
   ]
  },
  {
   "cell_type": "code",
   "execution_count": 29,
   "metadata": {},
   "outputs": [
    {
     "name": "stdout",
     "output_type": "stream",
     "text": [
      "+------------------+\n",
      "|              rmse|\n",
      "+------------------+\n",
      "|1.3828556511979628|\n",
      "+------------------+\n",
      "\n",
      "+------------------+\n",
      "|              rmse|\n",
      "+------------------+\n",
      "|1.6115848931318484|\n",
      "+------------------+\n",
      "\n",
      "+------------------+\n",
      "|              rmse|\n",
      "+------------------+\n",
      "|1.1536749643365558|\n",
      "+------------------+\n",
      "\n"
     ]
    }
   ],
   "source": [
    "# display the answers here\n",
    "rmse1_df.show()\n",
    "rmse2_df.show()\n",
    "rmse3_df.show()"
   ]
  },
  {
   "cell_type": "code",
   "execution_count": 30,
   "metadata": {
    "deletable": false,
    "editable": false,
    "nbgrader": {
     "checksum": "5184ddaec56494171407cfb72d94dd58",
     "grade": true,
     "grade_id": "cell-ef7fe89203dcf7ae",
     "locked": true,
     "points": 5,
     "schema_version": 1,
     "solution": false
    }
   },
   "outputs": [],
   "source": [
    "# (5 pts)\n",
    "np.testing.assert_equal(rmse1_df.count(), 1)\n",
    "np.testing.assert_equal(rmse2_df.count(), 1)\n",
    "np.testing.assert_equal(rmse3_df.count(), 1)\n",
    "np.testing.assert_equal(rmse1_df.columns, ['rmse'])\n",
    "np.testing.assert_equal(rmse2_df.columns, ['rmse'])\n",
    "np.testing.assert_equal(rmse3_df.columns, ['rmse'])"
   ]
  },
  {
   "cell_type": "markdown",
   "metadata": {},
   "source": [
    "Assign the best cross validated model to a variable `best_model` below"
   ]
  },
  {
   "cell_type": "code",
   "execution_count": 31,
   "metadata": {
    "deletable": false,
    "nbgrader": {
     "checksum": "3f7ff2f70265cbad1dc39394c737a946",
     "grade": false,
     "grade_id": "cell-ae68c8174768b63e",
     "locked": false,
     "schema_version": 1,
     "solution": true
    }
   },
   "outputs": [],
   "source": [
    "# assign best model (the best pipeline transformer) to a variable best_model below\n",
    "best_model = pipe_model3"
   ]
  },
  {
   "cell_type": "code",
   "execution_count": 32,
   "metadata": {
    "deletable": false,
    "editable": false,
    "nbgrader": {
     "checksum": "fcc3dc6f5df51a28be6efa4aed843866",
     "grade": true,
     "grade_id": "cell-8d3e6c2fc9feb10f",
     "locked": true,
     "points": 2,
     "schema_version": 1,
     "solution": false
    }
   },
   "outputs": [],
   "source": [
    "# (5 pts)\n",
    "np.testing.assert_equal(type(best_model), pyspark.ml.pipeline.PipelineModel)"
   ]
  },
  {
   "cell_type": "markdown",
   "metadata": {},
   "source": [
    "### Estimate generalization performance with RMSE\n",
    "\n",
    "Create a variable `rmse_best_df` that contains the RMSE of the best model on testing data"
   ]
  },
  {
   "cell_type": "code",
   "execution_count": 33,
   "metadata": {
    "deletable": false,
    "nbgrader": {
     "checksum": "69148aec455c19af6abda44a65d5c6cf",
     "grade": false,
     "grade_id": "cell-be77e90562322046",
     "locked": false,
     "schema_version": 1,
     "solution": true
    }
   },
   "outputs": [],
   "source": [
    "rmse_best_df = best_model.transform(testing_df).select(rmse)"
   ]
  },
  {
   "cell_type": "code",
   "execution_count": 34,
   "metadata": {
    "deletable": false,
    "editable": false,
    "nbgrader": {
     "checksum": "9a496ead0654ee61fcfa6802586301e9",
     "grade": true,
     "grade_id": "cell-7ea33e8409261269",
     "locked": true,
     "points": 3,
     "schema_version": 1,
     "solution": false
    }
   },
   "outputs": [],
   "source": [
    "# (3 pts)\n",
    "np.testing.assert_equal(rmse_best_df.count(), 1)\n",
    "np.testing.assert_equal(rmse_best_df.columns, ['rmse'])"
   ]
  },
  {
   "cell_type": "markdown",
   "metadata": {},
   "source": [
    "(2 pts) What is the best estimated generalization performance of the best model? Answer in the cell below"
   ]
  },
  {
   "cell_type": "code",
   "execution_count": 35,
   "metadata": {
    "deletable": false,
    "nbgrader": {
     "checksum": "87ceb0a1ca6b81effacaacd94574af69",
     "grade": true,
     "grade_id": "cell-250e44de7b4539f3",
     "locked": false,
     "points": 3,
     "schema_version": 1,
     "solution": true
    }
   },
   "outputs": [
    {
     "name": "stdout",
     "output_type": "stream",
     "text": [
      "+------------------+\n",
      "|              rmse|\n",
      "+------------------+\n",
      "|1.1079315158082261|\n",
      "+------------------+\n",
      "\n"
     ]
    }
   ],
   "source": [
    "rmse_best_df.show()\n",
    "# Best model is pipe_model3 as it's rmse is the least "
   ]
  },
  {
   "cell_type": "markdown",
   "metadata": {},
   "source": [
    "# Do inference with best model"
   ]
  },
  {
   "cell_type": "markdown",
   "metadata": {},
   "source": [
    "Assume that model 3 is the best one. Redefine a new pipeline for this model called `pipe_model_best` and add a `StandardScaler` that subtract the mean and devide by the standard deviation to the pipeline. Fit such pipeline to the **entire training data** (all of `dummy_df`)."
   ]
  },
  {
   "cell_type": "code",
   "execution_count": 36,
   "metadata": {},
   "outputs": [
    {
     "name": "stdout",
     "output_type": "stream",
     "text": [
      "Collecting git+https://github.com/daniel-acuna/pyspark_pipes.git\n",
      "  Cloning https://github.com/daniel-acuna/pyspark_pipes.git to /tmp/pip-req-build-a7_voyqc\n",
      "Requirement already satisfied: pyspark in /usr/local/spark-2.3.1-bin-hadoop2.7/python (from pyspark-pipes==0.1) (2.3.1)\n",
      "Collecting py4j==0.10.7 (from pyspark->pyspark-pipes==0.1)\n",
      "  Using cached https://files.pythonhosted.org/packages/e3/53/c737818eb9a7dc32a7cd4f1396e787bd94200c3997c72c1dbe028587bd76/py4j-0.10.7-py2.py3-none-any.whl\n",
      "Building wheels for collected packages: pyspark-pipes\n",
      "  Running setup.py bdist_wheel for pyspark-pipes ... \u001b[?25ldone\n",
      "\u001b[?25h  Stored in directory: /tmp/pip-ephem-wheel-cache-f5iu3z3u/wheels/58/e0/91/9f974ba72a9ea731a32cba0cccc17064e7d959a8f37e00263f\n",
      "Successfully built pyspark-pipes\n",
      "Installing collected packages: pyspark-pipes, py4j\n",
      "Successfully installed py4j-0.10.7 pyspark-pipes-0.1\n"
     ]
    }
   ],
   "source": [
    "!pip install git+https://github.com/daniel-acuna/pyspark_pipes.git"
   ]
  },
  {
   "cell_type": "code",
   "execution_count": 102,
   "metadata": {
    "deletable": false,
    "nbgrader": {
     "checksum": "7414f608465227abb4a64b9657bb0f72",
     "grade": false,
     "grade_id": "cell-5d347fc67e4a77b6",
     "locked": false,
     "schema_version": 1,
     "solution": true
    }
   },
   "outputs": [],
   "source": [
    "# create `pipe_model_best` below\n",
    "from pyspark_pipes import pipe\n",
    "pipe_model = pipe(feature.VectorAssembler(inputCols=['motor_A','motor_B','motor_C','motor_E','screw_A','screw_B',\\\n",
    "                   'screw_D','screw_E','vgain','pgain']),\n",
    "                   feature.StandardScaler(withMean=True, withStd=True), regression.LinearRegression(labelCol='rise_time'))\n",
    "pipe_model_best = pipe_model.fit(dummy_df)\n"
   ]
  },
  {
   "cell_type": "code",
   "execution_count": 103,
   "metadata": {
    "deletable": false,
    "editable": false,
    "nbgrader": {
     "checksum": "7fe9dcf471a18436461371d0e09f22e2",
     "grade": true,
     "grade_id": "cell-230c8b35da808e47",
     "locked": true,
     "points": 4,
     "schema_version": 1,
     "solution": false
    }
   },
   "outputs": [],
   "source": [
    "# (3 pts) check that the model was fitted correctly\n",
    "np.testing.assert_equal(type(pipe_model_best.stages[0]), feature.VectorAssembler)\n",
    "np.testing.assert_equal(type(pipe_model_best.stages[1]), feature.StandardScalerModel)\n",
    "np.testing.assert_equal(type(pipe_model_best.stages[2]), regression.LinearRegressionModel)\n",
    "np.testing.assert_array_equal(pipe_model_best.stages[2].coefficients.shape, (10,))"
   ]
  },
  {
   "cell_type": "markdown",
   "metadata": {},
   "source": [
    "**(4 pts)** Since all features on `dummy_df` were standardized, we can compare their importance directly by looking at the coefficients of the linear regression. Taking motor D and screw C as the baseline, what are the top 2 most important features for *increasing rise time* and the top 2 most important features for *decreasing rise time*? Answer below with code and comments to support your answer"
   ]
  },
  {
   "cell_type": "code",
   "execution_count": 145,
   "metadata": {
    "deletable": false,
    "nbgrader": {
     "checksum": "26b6ef569dc2c8207c0e69cc984d80b9",
     "grade": true,
     "grade_id": "cell-a1305a62d8222591",
     "locked": false,
     "points": 4,
     "schema_version": 1,
     "solution": true
    }
   },
   "outputs": [
    {
     "name": "stdout",
     "output_type": "stream",
     "text": [
      "The 2 most important features for increasing rise time are  motor_A  with value: 0.5899315047968949\n",
      "&  motor_B  with value: 0.5572782900852772\n",
      "The 2 most important features for decreasing rise time are  pgain  with value: -1.6727340338642254\n",
      "&  screw_D  with value: -0.04734388817040064\n"
     ]
    }
   ],
   "source": [
    "coeff_value = pipe_model_best.stages[-1].coefficients\n",
    "coeff_value \n",
    "coeff_name= dummy_df.columns\n",
    "coeff_name.remove('rise_time')\n",
    "coeff_name\n",
    "coeff_dict = dict(zip(coeff_name,coeff_value))\n",
    "#coeff_dict.values()\n",
    "#coeff_dict.items()\n",
    "b = sc.parallelize(coeff_dict.items())\n",
    "b.collect()\n",
    "bSorted = b.sortBy(lambda a: -a[1])\n",
    "x = bSorted.collect()\n",
    "print('The 2 most important features for increasing rise time are ', x[1][0] ,' with value:',x[1][1])\n",
    "print('& ',x[2][0],' with value:',x[2][1])\n",
    "print('The 2 most important features for decreasing rise time are ', x[9][0] ,' with value:',x[9][1])\n",
    "print('& ',x[8][0],' with value:',x[8][1])\n"
   ]
  }
 ],
 "metadata": {
  "kernelspec": {
   "display_name": "Python 3",
   "language": "python",
   "name": "python3"
  },
  "language_info": {
   "codemirror_mode": {
    "name": "ipython",
    "version": 3
   },
   "file_extension": ".py",
   "mimetype": "text/x-python",
   "name": "python",
   "nbconvert_exporter": "python",
   "pygments_lexer": "ipython3",
   "version": "3.6.6"
  }
 },
 "nbformat": 4,
 "nbformat_minor": 2
}
