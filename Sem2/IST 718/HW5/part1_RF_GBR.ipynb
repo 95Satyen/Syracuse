{
 "cells": [
  {
   "cell_type": "markdown",
   "metadata": {
    "deletable": false,
    "editable": false,
    "nbgrader": {
     "checksum": "4e6cefb0049d48a2f4648d752841bb06",
     "grade": false,
     "grade_id": "cell-b038e38b5e3072a9",
     "locked": true,
     "schema_version": 1,
     "solution": false
    }
   },
   "source": [
    "# IST 718: Big Data Analytics\n",
    "\n",
    "- Professor: Daniel Acuna <deacuna@syr.edu>\n",
    "- TAs: Tong Zeng <tozeng@syr.edu>, Priya Matnani <psmatnan@syr.edu>\n",
    "\n",
    "## General instructions:\n",
    "\n",
    "- You are welcome to discuss the problems with your classmates but __you are not allowed to copy any part of your answers either from your classmates or from the internet__\n",
    "- You can put the homework files anywhere you want in your http://notebook.acuna.io workspace but _do not change_ the file names. The TAs and the professor use these names to grade your homework.\n",
    "- Remove or comment out code that contains `raise NotImplementedError`. This is mainly to make the `assert` statement fail if nothing is submitted.\n",
    "- The tests shown in some cells (i.e., `assert` and `np.testing.` statements) are used to grade your answers. **However, the professor and TAs will use __additional__ test for your answer. Think about cases where your code should run even if it passess all the tests you see.**\n",
    "- Before downloading and submitting your work through Blackboard, remember to save and press `Validate` (or go to \n",
    "`Kernel`$\\rightarrow$`Restart and Run All`). \n",
    "- Good luck!"
   ]
  },
  {
   "cell_type": "code",
   "execution_count": 1,
   "metadata": {},
   "outputs": [],
   "source": [
    "# load these packages\n",
    "import pyspark\n",
    "from pyspark.ml import feature, classification\n",
    "from pyspark.ml import Pipeline\n",
    "from pyspark.sql import functions as fn\n",
    "import numpy as np\n",
    "from pyspark.sql import SparkSession\n",
    "from pyspark.ml import feature, regression, evaluation, Pipeline\n",
    "from pyspark.sql import functions as fn, Row\n",
    "import matplotlib.pyplot as plt\n",
    "spark = SparkSession.builder.getOrCreate()\n",
    "sc = spark.sparkContext\n",
    "import pandas as pd"
   ]
  },
  {
   "cell_type": "markdown",
   "metadata": {},
   "source": [
    "# Part 1: Random Forest and gradient boosted trees"
   ]
  },
  {
   "cell_type": "markdown",
   "metadata": {},
   "source": [
    "In these questions, we will examine the famous [Auto dataset](https://vincentarelbundock.github.io/Rdatasets/doc/ISLR/Auto.html). With this dataset, the goal is to predict the miles per gallon (`mpg`) performance based on characteristics of the car such as number of cylinders (`cylinders`), displacement between wheels (`displacement`), horsepower of the engine (`horsepower`), weight of the car (`weight`), top acceleration (`acceleration`), year of the model (`year`), and origin (`origin`)."
   ]
  },
  {
   "cell_type": "code",
   "execution_count": 2,
   "metadata": {
    "deletable": false,
    "editable": false,
    "nbgrader": {
     "checksum": "d835a01d8146fbfa5aed060dae16d9fb",
     "grade": false,
     "grade_id": "cell-219523fd6f45f014",
     "locked": true,
     "schema_version": 1,
     "solution": false
    }
   },
   "outputs": [
    {
     "name": "stdout",
     "output_type": "stream",
     "text": [
      "root\n",
      " |-- mpg: double (nullable = true)\n",
      " |-- cylinders: integer (nullable = true)\n",
      " |-- displacement: double (nullable = true)\n",
      " |-- weight: integer (nullable = true)\n",
      " |-- acceleration: double (nullable = true)\n",
      " |-- year: integer (nullable = true)\n",
      " |-- origin: integer (nullable = true)\n",
      " |-- name: string (nullable = true)\n",
      " |-- horsepower: integer (nullable = true)\n",
      "\n"
     ]
    }
   ],
   "source": [
    "# read-only\n",
    "mpg_df = spark.read.csv('/datasets/ISLR/Auto.csv', header=True, inferSchema=True).\\\n",
    "    drop('_c0').\\\n",
    "    withColumn('horsepower2', fn.col('horsepower').cast('int')).\\\n",
    "    drop('horsepower').\\\n",
    "    withColumnRenamed('horsepower2', 'horsepower').\\\n",
    "    dropna()\n",
    "training_df, validation_df, testing_df = mpg_df.randomSplit([0.6, 0.3, 0.1], seed=0)\n",
    "mpg_df.printSchema()"
   ]
  },
  {
   "cell_type": "markdown",
   "metadata": {},
   "source": [
    "# Question 1: (10 pts)\n",
    "\n",
    "Create three pipelines that contain three different random forests that take in all features from `mpg_df` (`cylinders`, `displacement`, `horsepower`, `weight`, `acceleration`, `year`, and `origin`) to predict (`mpg`). **Set the `seed` parameter of the random forest to 0.** Fit these pipelines to the training data (`training_df`):\n",
    "\n",
    "- `pipe_rf1`: Random forest with `maxDepth=1` and `numTrees=60`\n",
    "- `pipe_rf2`: Random forest with `maxDepth=3` and `numTrees=40`\n",
    "- `pipe_rf3`: Random forest with `maxDepth=6`, `numTrees=20`"
   ]
  },
  {
   "cell_type": "code",
   "execution_count": 3,
   "metadata": {
    "deletable": false,
    "nbgrader": {
     "checksum": "2912f0aa0562283b8c2b9b8d330a9e8c",
     "grade": false,
     "grade_id": "cell-5d34f31b40350198",
     "locked": false,
     "schema_version": 1,
     "solution": true
    }
   },
   "outputs": [],
   "source": [
    "# create the fitted pipelines `pipe_rf1`, `pipe_rf2`, and `pipe_rf3` here\n",
    "pipe_rf1 = Pipeline(stages=[feature.VectorAssembler(inputCols=['cylinders','displacement','horsepower','weight',\n",
    "                                                               'acceleration','year','origin'], outputCol='feature'),\n",
    "                            regression.RandomForestRegressor(numTrees=60,seed=0,featureSubsetStrategy='auto',maxDepth=1,labelCol='mpg',featuresCol='feature')]).fit(training_df)\n",
    "\n",
    "pipe_rf2 = Pipeline(stages=[feature.VectorAssembler(inputCols=['cylinders','displacement','horsepower','weight',\n",
    "                                                               'acceleration','year','origin'], outputCol='feature'),\n",
    "                            regression.RandomForestRegressor(numTrees=40,seed=0,featureSubsetStrategy='auto',maxDepth=3,labelCol='mpg',featuresCol='feature')]).fit(training_df)\n",
    "\n",
    "pipe_rf3 = Pipeline(stages=[feature.VectorAssembler(inputCols=['cylinders','displacement','horsepower','weight',\n",
    "                                                               'acceleration','year','origin'], outputCol='feature'),\n",
    "                            regression.RandomForestRegressor(numTrees=20,seed=0,featureSubsetStrategy='auto',maxDepth=6,labelCol='mpg',featuresCol='feature')]).fit(training_df)"
   ]
  },
  {
   "cell_type": "code",
   "execution_count": 4,
   "metadata": {},
   "outputs": [
    {
     "name": "stdout",
     "output_type": "stream",
     "text": [
      "+----+---------+------------+------+------------+----+------+---------+----------+\n",
      "| mpg|cylinders|displacement|weight|acceleration|year|origin|     name|horsepower|\n",
      "+----+---------+------------+------+------------+----+------+---------+----------+\n",
      "|10.0|        8|       307.0|  4376|        15.0|  70|     1|chevy c20|       200|\n",
      "+----+---------+------------+------+------------+----+------+---------+----------+\n",
      "only showing top 1 row\n",
      "\n"
     ]
    }
   ],
   "source": [
    "training_df.show(1)"
   ]
  },
  {
   "cell_type": "code",
   "execution_count": 5,
   "metadata": {
    "deletable": false,
    "editable": false,
    "nbgrader": {
     "checksum": "ab0fe44d4fffc964b8d76f2d7cc0bc52",
     "grade": true,
     "grade_id": "cell-896bdef9bf893231",
     "locked": true,
     "points": 10,
     "schema_version": 1,
     "solution": false
    }
   },
   "outputs": [],
   "source": [
    "# tests for 10 pts\n",
    "np.testing.assert_equal(type(pipe_rf1.stages[0]), feature.VectorAssembler)\n",
    "np.testing.assert_equal(type(pipe_rf2.stages[0]), feature.VectorAssembler)\n",
    "np.testing.assert_equal(type(pipe_rf3.stages[0]), feature.VectorAssembler)\n",
    "np.testing.assert_equal(type(pipe_rf1.stages[1]), regression.RandomForestRegressionModel)\n",
    "np.testing.assert_equal(type(pipe_rf2.stages[1]), regression.RandomForestRegressionModel)\n",
    "np.testing.assert_equal(type(pipe_rf3.stages[1]), regression.RandomForestRegressionModel)\n",
    "np.testing.assert_equal(type(pipe_rf1.transform(training_df)), pyspark.sql.dataframe.DataFrame)\n",
    "np.testing.assert_equal(type(pipe_rf2.transform(training_df)), pyspark.sql.dataframe.DataFrame)\n",
    "np.testing.assert_equal(type(pipe_rf3.transform(training_df)), pyspark.sql.dataframe.DataFrame)"
   ]
  },
  {
   "cell_type": "markdown",
   "metadata": {},
   "source": [
    "# Question 2 (10 pts)\n",
    "\n",
    "Use the following evaluator to compute the $R^2$ of the models on validation data. Assign the $R^2$ of the three models to `R2_1`, `R2_2`, and `R2_3`, respectively, and the performance. Assign the best pipeline based on validation performance to a variable `best_model`"
   ]
  },
  {
   "cell_type": "code",
   "execution_count": 6,
   "metadata": {},
   "outputs": [],
   "source": [
    "evaluator = evaluation.RegressionEvaluator(labelCol='mpg', metricName='r2')\n",
    "# use it as follows:\n",
    "#   evaluator.evaluate(fitted_pipeline.transform(df)) -> R2"
   ]
  },
  {
   "cell_type": "code",
   "execution_count": 7,
   "metadata": {
    "deletable": false,
    "nbgrader": {
     "checksum": "05aa55bb93c8241e41bb5608503701cc",
     "grade": false,
     "grade_id": "cell-91cd57be67b86f2a",
     "locked": false,
     "schema_version": 1,
     "solution": true
    }
   },
   "outputs": [
    {
     "name": "stdout",
     "output_type": "stream",
     "text": [
      "R2_1: 0.6336763409868249 R2_2: 0.8404115955766471 R2_3: 0.8799114180154942\n"
     ]
    }
   ],
   "source": [
    "# YOUR CODE HERE\n",
    "#pipe_rf1.transform(validation_df)\n",
    "R2_1 = evaluator.evaluate(pipe_rf1.transform(validation_df))\n",
    "R2_2 = evaluator.evaluate(pipe_rf2.transform(validation_df))\n",
    "R2_3 = evaluator.evaluate(pipe_rf3.transform(validation_df))\n",
    "\n",
    "print(\"R2_1:\",R2_1,\"R2_2:\",R2_2,\"R2_3:\",R2_3)\n",
    "\n",
    "best_model = pipe_rf3"
   ]
  },
  {
   "cell_type": "code",
   "execution_count": 8,
   "metadata": {
    "deletable": false,
    "editable": false,
    "nbgrader": {
     "checksum": "f54b5ffaa1b173049912fcc6e5153295",
     "grade": true,
     "grade_id": "cell-5399ae6afb414351",
     "locked": true,
     "points": 10,
     "schema_version": 1,
     "solution": false
    }
   },
   "outputs": [],
   "source": [
    "# tests for 10 pts\n",
    "np.testing.assert_equal(type(best_model.stages[0]), feature.VectorAssembler)\n",
    "np.testing.assert_equal(type(best_model.stages[1]), regression.RandomForestRegressionModel)\n",
    "np.testing.assert_equal(type(best_model.transform(validation_df)), pyspark.sql.dataframe.DataFrame)\n",
    "np.testing.assert_array_less(R2_1, 1.)\n",
    "np.testing.assert_array_less(0.5, R2_1)\n",
    "np.testing.assert_array_less(R2_2, 1.)\n",
    "np.testing.assert_array_less(0.5, R2_2)\n",
    "np.testing.assert_array_less(R2_3, 1.)\n",
    "np.testing.assert_array_less(0.5, R2_3)"
   ]
  },
  {
   "cell_type": "markdown",
   "metadata": {},
   "source": [
    "# Question 3: 5 pts\n",
    "\n",
    "Compute the $R^2$ of the model on testing data, print it, and assign it to variable `R2_best`"
   ]
  },
  {
   "cell_type": "code",
   "execution_count": 9,
   "metadata": {
    "deletable": false,
    "nbgrader": {
     "checksum": "d024cc767cf9091d250f11c6c26fc729",
     "grade": false,
     "grade_id": "cell-86f5f0eaa917209f",
     "locked": false,
     "schema_version": 1,
     "solution": true
    }
   },
   "outputs": [
    {
     "data": {
      "text/plain": [
       "0.9664636858674139"
      ]
     },
     "execution_count": 9,
     "metadata": {},
     "output_type": "execute_result"
    }
   ],
   "source": [
    "# create AUC_best below\n",
    "# YOUR CODE HERE\n",
    "R2_best = evaluator.evaluate(best_model.transform(testing_df))\n",
    "R2_best"
   ]
  },
  {
   "cell_type": "code",
   "execution_count": 10,
   "metadata": {
    "deletable": false,
    "editable": false,
    "nbgrader": {
     "checksum": "be06b9c3fd35043998cada2e4c82af63",
     "grade": true,
     "grade_id": "cell-bd2f7d28b44ac691",
     "locked": true,
     "points": 5,
     "schema_version": 1,
     "solution": false
    }
   },
   "outputs": [],
   "source": [
    "# tests for 5 pts\n",
    "np.testing.assert_array_less(R2_best, 1.)\n",
    "np.testing.assert_array_less(0.5, R2_best)"
   ]
  },
  {
   "cell_type": "markdown",
   "metadata": {},
   "source": [
    "# Question 4: 5 pts\n",
    "\n",
    "Using the parameters of the best model, create a new pipeline called `final_model` and fit it to the entire data (`mpg_df`)"
   ]
  },
  {
   "cell_type": "code",
   "execution_count": 11,
   "metadata": {
    "deletable": false,
    "nbgrader": {
     "checksum": "f1e9753be63f387d37db812d4102e26c",
     "grade": false,
     "grade_id": "cell-2574a5ca8f12ce94",
     "locked": false,
     "schema_version": 1,
     "solution": true
    }
   },
   "outputs": [],
   "source": [
    "# create the fitted pipeline `final_model` here\n",
    "# YOUR CODE HERE\n",
    "final_model =  Pipeline(stages=[feature.VectorAssembler(inputCols=['cylinders','displacement','horsepower','weight',\n",
    "                                                               'acceleration','year','origin'], outputCol='feature'),\n",
    "                            regression.RandomForestRegressor(numTrees=20,seed=0,featureSubsetStrategy='auto',maxDepth=6,labelCol='mpg',featuresCol='feature')]).fit(mpg_df)"
   ]
  },
  {
   "cell_type": "code",
   "execution_count": 12,
   "metadata": {
    "deletable": false,
    "editable": false,
    "nbgrader": {
     "checksum": "10209c86da7aca0f6d99708efb051f44",
     "grade": true,
     "grade_id": "cell-bcce92747a0d2ba5",
     "locked": true,
     "points": 5,
     "schema_version": 1,
     "solution": false
    }
   },
   "outputs": [],
   "source": [
    "# tests for 10 pts\n",
    "np.testing.assert_equal(type(final_model.stages[0]), feature.VectorAssembler)\n",
    "np.testing.assert_equal(type(final_model.stages[1]), regression.RandomForestRegressionModel)\n",
    "np.testing.assert_equal(type(final_model.transform(mpg_df)), pyspark.sql.dataframe.DataFrame)"
   ]
  },
  {
   "cell_type": "markdown",
   "metadata": {},
   "source": [
    "# Question 5: 10 pts\n",
    "\n",
    "Create a pandas dataframe `feature_importance` with the columns `feature` and `importance` which contains the names of the features (`cylinder`, `displacement`, etc.) and their feature importances as determined by the random forest of the final model. Sort the dataframe by `importance` in descending order."
   ]
  },
  {
   "cell_type": "code",
   "execution_count": 13,
   "metadata": {
    "deletable": false,
    "nbgrader": {
     "checksum": "89dc0c52dff983147af006f48049dd3e",
     "grade": false,
     "grade_id": "cell-5b666b921af5a375",
     "locked": false,
     "schema_version": 1,
     "solution": true
    }
   },
   "outputs": [],
   "source": [
    "# create feature_importance below\n",
    "# YOUR CODE HERE\n",
    "feature = ['cylinders','displacement','horsepower','weight','acceleration','year','origin']\n",
    "\n",
    "feature_importance = pd.DataFrame(list(zip(feature,final_model.stages[-1].featureImportances.toArray())),\n",
    "            columns = ['feature', 'importance']).sort_values('importance', ascending = False)"
   ]
  },
  {
   "cell_type": "code",
   "execution_count": 14,
   "metadata": {},
   "outputs": [
    {
     "data": {
      "text/html": [
       "<div>\n",
       "<style scoped>\n",
       "    .dataframe tbody tr th:only-of-type {\n",
       "        vertical-align: middle;\n",
       "    }\n",
       "\n",
       "    .dataframe tbody tr th {\n",
       "        vertical-align: top;\n",
       "    }\n",
       "\n",
       "    .dataframe thead th {\n",
       "        text-align: right;\n",
       "    }\n",
       "</style>\n",
       "<table border=\"1\" class=\"dataframe\">\n",
       "  <thead>\n",
       "    <tr style=\"text-align: right;\">\n",
       "      <th></th>\n",
       "      <th>feature</th>\n",
       "      <th>importance</th>\n",
       "    </tr>\n",
       "  </thead>\n",
       "  <tbody>\n",
       "    <tr>\n",
       "      <th>0</th>\n",
       "      <td>cylinders</td>\n",
       "      <td>0.258947</td>\n",
       "    </tr>\n",
       "    <tr>\n",
       "      <th>1</th>\n",
       "      <td>displacement</td>\n",
       "      <td>0.209820</td>\n",
       "    </tr>\n",
       "    <tr>\n",
       "      <th>3</th>\n",
       "      <td>weight</td>\n",
       "      <td>0.186403</td>\n",
       "    </tr>\n",
       "    <tr>\n",
       "      <th>2</th>\n",
       "      <td>horsepower</td>\n",
       "      <td>0.156602</td>\n",
       "    </tr>\n",
       "    <tr>\n",
       "      <th>5</th>\n",
       "      <td>year</td>\n",
       "      <td>0.156356</td>\n",
       "    </tr>\n",
       "    <tr>\n",
       "      <th>4</th>\n",
       "      <td>acceleration</td>\n",
       "      <td>0.023101</td>\n",
       "    </tr>\n",
       "    <tr>\n",
       "      <th>6</th>\n",
       "      <td>origin</td>\n",
       "      <td>0.008771</td>\n",
       "    </tr>\n",
       "  </tbody>\n",
       "</table>\n",
       "</div>"
      ],
      "text/plain": [
       "        feature  importance\n",
       "0     cylinders    0.258947\n",
       "1  displacement    0.209820\n",
       "3        weight    0.186403\n",
       "2    horsepower    0.156602\n",
       "5          year    0.156356\n",
       "4  acceleration    0.023101\n",
       "6        origin    0.008771"
      ]
     },
     "execution_count": 14,
     "metadata": {},
     "output_type": "execute_result"
    }
   ],
   "source": [
    "# display it here\n",
    "feature_importance"
   ]
  },
  {
   "cell_type": "code",
   "execution_count": 15,
   "metadata": {
    "deletable": false,
    "editable": false,
    "nbgrader": {
     "checksum": "a174ad97cc20a8fe9385ded1a56597f7",
     "grade": true,
     "grade_id": "cell-de7873ad0b54f277",
     "locked": true,
     "points": 10,
     "schema_version": 1,
     "solution": false
    }
   },
   "outputs": [],
   "source": [
    "# tests for 10 pts\n",
    "assert type(feature_importance) == pd.core.frame.DataFrame\n",
    "np.testing.assert_array_equal(list(feature_importance.columns), ['feature', 'importance'])\n",
    "np.testing.assert_array_equal(list(feature_importance.columns), ['feature', 'importance'])"
   ]
  },
  {
   "cell_type": "markdown",
   "metadata": {},
   "source": [
    "**(5 pts)** Comment below on the importance that random forest has given to each feature. Are they reasonable? Do they tell you anything valuable about the mpg dataset? Answer in the cell below"
   ]
  },
  {
   "cell_type": "markdown",
   "metadata": {
    "deletable": false,
    "nbgrader": {
     "checksum": "b2c41f651112504fa5bc52db64459564",
     "grade": true,
     "grade_id": "cell-cd1eb09a9ba5aaa9",
     "locked": false,
     "points": 5,
     "schema_version": 1,
     "solution": true
    }
   },
   "source": [
    "### Comment\n",
    "Miles per gallon reflects the efficiency of the car. If we want to make a car to be efficient, cylinders play the most crucial role and that is what the feature importance is showing. The displacement of engine is also almost as important as the cylinders for efficieny of the car. After the above two features, weight of car being important also makes sense. The more the weight of the car, the fuel consumption should be also impacted. In contrast to the above, origin of the car i.e American, European, Japanese will not impact the fuel consumption that much. The term acceleration of a car is more related to performance than to efficiency, therefore its positioning in the features makes sense.\n",
    "The remaining two words horsepower and year might impact the efficiency of the car but not as cucial as displacement, and cylinders."
   ]
  },
  {
   "cell_type": "markdown",
   "metadata": {},
   "source": [
    "# Question 6:  5 pts.\n",
    "`\n",
    "Pick any of the trees from the final model and assign its `toDebugString` property to a variable `example_tree`. Print this variable and add comments to the cell describing how you think this particular tree is fitting the data"
   ]
  },
  {
   "cell_type": "code",
   "execution_count": 16,
   "metadata": {
    "deletable": false,
    "nbgrader": {
     "checksum": "b212587e3d2f28ad35f04e2a6149e762",
     "grade": false,
     "grade_id": "cell-7476baa7ceb72c05",
     "locked": false,
     "schema_version": 1,
     "solution": true
    }
   },
   "outputs": [
    {
     "name": "stdout",
     "output_type": "stream",
     "text": [
      "DecisionTreeRegressionModel (uid=dtr_baa3165fedb7) of depth 6 with 117 nodes\n",
      "  If (feature 0 <= 4.5)\n",
      "   If (feature 5 <= 78.5)\n",
      "    If (feature 2 <= 71.5)\n",
      "     If (feature 5 <= 76.5)\n",
      "      If (feature 6 <= 2.5)\n",
      "       If (feature 4 <= 19.55)\n",
      "        Predict: 29.0\n",
      "       Else (feature 4 > 19.55)\n",
      "        Predict: 26.818181818181817\n",
      "      Else (feature 6 > 2.5)\n",
      "       If (feature 2 <= 53.5)\n",
      "        Predict: 32.6\n",
      "       Else (feature 2 > 53.5)\n",
      "        Predict: 31.666666666666668\n",
      "     Else (feature 5 > 76.5)\n",
      "      If (feature 3 <= 2115.0)\n",
      "       If (feature 4 <= 19.55)\n",
      "        Predict: 34.11538461538461\n",
      "       Else (feature 4 > 19.55)\n",
      "        Predict: 43.10000000000002\n",
      "      Else (feature 3 > 2115.0)\n",
      "       If (feature 6 <= 1.5)\n",
      "        Predict: 30.0\n",
      "       Else (feature 6 > 1.5)\n",
      "        Predict: 29.5\n",
      "    Else (feature 2 > 71.5)\n",
      "     If (feature 1 <= 107.5)\n",
      "      If (feature 0 <= 3.5)\n",
      "       If (feature 1 <= 79.5)\n",
      "        Predict: 18.0\n",
      "       Else (feature 1 > 79.5)\n",
      "        Predict: 21.5\n",
      "      Else (feature 0 > 3.5)\n",
      "       If (feature 2 <= 87.5)\n",
      "        Predict: 28.366666666666664\n",
      "       Else (feature 2 > 87.5)\n",
      "        Predict: 24.5\n",
      "     Else (feature 1 > 107.5)\n",
      "      If (feature 3 <= 2803.5)\n",
      "       If (feature 3 <= 2371.0)\n",
      "        Predict: 25.214285714285715\n",
      "       Else (feature 3 > 2371.0)\n",
      "        Predict: 23.39333333333333\n",
      "      Else (feature 3 > 2803.5)\n",
      "       If (feature 1 <= 137.5)\n",
      "        Predict: 19.5\n",
      "       Else (feature 1 > 137.5)\n",
      "        Predict: 23.799999999999997\n",
      "   Else (feature 5 > 78.5)\n",
      "    If (feature 1 <= 107.5)\n",
      "     If (feature 2 <= 53.5)\n",
      "      If (feature 5 <= 80.5)\n",
      "       Predict: 44.29999999999999\n",
      "      Else (feature 5 > 80.5)\n",
      "       Predict: 44.0\n",
      "     Else (feature 2 > 53.5)\n",
      "      If (feature 6 <= 2.5)\n",
      "       If (feature 1 <= 89.5)\n",
      "        Predict: 30.325000000000003\n",
      "       Else (feature 1 > 89.5)\n",
      "        Predict: 34.477777777777774\n",
      "      Else (feature 6 > 2.5)\n",
      "       If (feature 2 <= 65.5)\n",
      "        Predict: 38.24545454545455\n",
      "       Else (feature 2 > 65.5)\n",
      "        Predict: 35.233333333333334\n",
      "    Else (feature 1 > 107.5)\n",
      "     If (feature 1 <= 137.5)\n",
      "      If (feature 3 <= 2371.0)\n",
      "       If (feature 4 <= 14.6)\n",
      "        Predict: 36.0\n",
      "       Else (feature 4 > 14.6)\n",
      "        Predict: 32.349999999999994\n",
      "      Else (feature 3 > 2371.0)\n",
      "       If (feature 2 <= 90.5)\n",
      "        Predict: 29.92\n",
      "       Else (feature 2 > 90.5)\n",
      "        Predict: 32.89999999999998\n",
      "     Else (feature 1 > 137.5)\n",
      "      If (feature 1 <= 140.5)\n",
      "       If (feature 2 <= 88.5)\n",
      "        Predict: 26.399999999999995\n",
      "       Else (feature 2 > 88.5)\n",
      "        Predict: 24.0\n",
      "      Else (feature 1 > 140.5)\n",
      "       If (feature 6 <= 2.5)\n",
      "        Predict: 28.316666666666666\n",
      "       Else (feature 6 > 2.5)\n",
      "        Predict: 32.0\n",
      "  Else (feature 0 > 4.5)\n",
      "   If (feature 2 <= 138.5)\n",
      "    If (feature 1 <= 212.5)\n",
      "     If (feature 5 <= 78.5)\n",
      "      If (feature 3 <= 3199.0)\n",
      "       If (feature 2 <= 95.5)\n",
      "        Predict: 21.058333333333334\n",
      "       Else (feature 2 > 95.5)\n",
      "        Predict: 19.106666666666666\n",
      "      Else (feature 3 > 3199.0)\n",
      "       If (feature 3 <= 3412.5)\n",
      "        Predict: 16.2\n",
      "       Else (feature 3 > 3412.5)\n",
      "        Predict: 16.500000000000004\n",
      "     Else (feature 5 > 78.5)\n",
      "      If (feature 2 <= 127.0)\n",
      "       If (feature 3 <= 3085.5)\n",
      "        Predict: 24.27777777777778\n",
      "       Else (feature 3 > 3085.5)\n",
      "        Predict: 27.166666666666668\n",
      "      Else (feature 2 > 127.0)\n",
      "       Predict: 32.69999999999999\n",
      "    Else (feature 1 > 212.5)\n",
      "     If (feature 5 <= 74.5)\n",
      "      If (feature 3 <= 3199.0)\n",
      "       If (feature 5 <= 73.5)\n",
      "        Predict: 18.0\n",
      "       Else (feature 5 > 73.5)\n",
      "        Predict: 19.0\n",
      "      Else (feature 3 > 3199.0)\n",
      "       If (feature 1 <= 241.0)\n",
      "        Predict: 17.0\n",
      "       Else (feature 1 > 241.0)\n",
      "        Predict: 15.5\n",
      "     Else (feature 5 > 74.5)\n",
      "      If (feature 3 <= 3732.5)\n",
      "       If (feature 2 <= 87.5)\n",
      "        Predict: 17.733333333333334\n",
      "       Else (feature 2 > 87.5)\n",
      "        Predict: 20.03666666666667\n",
      "      Else (feature 3 > 3732.5)\n",
      "       If (feature 4 <= 15.25)\n",
      "        Predict: 15.0\n",
      "       Else (feature 4 > 15.25)\n",
      "        Predict: 17.5\n",
      "   Else (feature 2 > 138.5)\n",
      "    If (feature 3 <= 3462.0)\n",
      "     If (feature 5 <= 73.5)\n",
      "      If (feature 1 <= 329.0)\n",
      "       If (feature 5 <= 70.5)\n",
      "        Predict: 17.0\n",
      "       Else (feature 5 > 70.5)\n",
      "        Predict: 15.0\n",
      "      Else (feature 1 > 329.0)\n",
      "       Predict: 14.0\n",
      "     Else (feature 5 > 73.5)\n",
      "      If (feature 1 <= 303.0)\n",
      "       If (feature 0 <= 7.0)\n",
      "        Predict: 17.7\n",
      "       Else (feature 0 > 7.0)\n",
      "        Predict: 18.1\n",
      "      Else (feature 1 > 303.0)\n",
      "       Predict: 19.200000000000003\n",
      "    Else (feature 3 > 3462.0)\n",
      "     If (feature 2 <= 151.0)\n",
      "      If (feature 5 <= 76.5)\n",
      "       If (feature 4 <= 13.1)\n",
      "        Predict: 14.708333333333334\n",
      "       Else (feature 4 > 13.1)\n",
      "        Predict: 13.846153846153847\n",
      "      Else (feature 5 > 76.5)\n",
      "       If (feature 4 <= 13.75)\n",
      "        Predict: 18.0\n",
      "       Else (feature 4 > 13.75)\n",
      "        Predict: 15.75\n",
      "     Else (feature 2 > 151.0)\n",
      "      If (feature 5 <= 73.5)\n",
      "       If (feature 3 <= 4432.5)\n",
      "        Predict: 13.55\n",
      "       Else (feature 3 > 4432.5)\n",
      "        Predict: 12.083333333333334\n",
      "      Else (feature 5 > 73.5)\n",
      "       If (feature 4 <= 12.95)\n",
      "        Predict: 15.4\n",
      "       Else (feature 4 > 12.95)\n",
      "        Predict: 16.900000000000006\n",
      "\n"
     ]
    }
   ],
   "source": [
    "# create a variable example_tree with the toDebugString property of a tree from final_model.\n",
    "# print this string and comment in this same cell about the branches that this tree fit\n",
    "# YOUR CODE HERE\n",
    "rfModel = final_model.stages[-1]\n",
    "len(rfModel.trees)\n",
    "example_tree = rfModel.trees[2].toDebugString\n",
    "print(example_tree)"
   ]
  },
  {
   "cell_type": "code",
   "execution_count": 17,
   "metadata": {},
   "outputs": [
    {
     "data": {
      "text/plain": [
       "[Row(mpg=11.0, cylinders=8, displacement=400.0, weight=4997, acceleration=14.0, year=73, origin=1, name='chevrolet impala', horsepower=150, feature=DenseVector([8.0, 400.0, 150.0, 4997.0, 14.0, 73.0, 1.0]), prediction=13.351007719380604)]"
      ]
     },
     "execution_count": 17,
     "metadata": {},
     "output_type": "execute_result"
    }
   ],
   "source": [
    "final_model.transform(testing_df).take(1)"
   ]
  },
  {
   "cell_type": "markdown",
   "metadata": {},
   "source": [
    "### Comment\n",
    "Comparing one testing prediction with Decision Tree,\n",
    "\n",
    "(f0)cylinders=8                      here f0 is greater than 4.5\n",
    "(f2)horsepower=150,                  here f2 is greater than 138.5\n",
    "(f3)weight=4997,                     here f3 is greater than 3462\n",
    "(f5)year=73,                         here f5 is less than 76.5\n",
    "(f4)acceleration=14.0,               here f4 is greater than 13.75\n",
    "Therefore predicted value should be 13.55\n",
    "By using the testing data the predicted value is coming 13.35\n",
    "Therefore, this tree is fitting the data considerably.\n",
    "\n"
   ]
  },
  {
   "cell_type": "code",
   "execution_count": 18,
   "metadata": {
    "deletable": false,
    "editable": false,
    "nbgrader": {
     "checksum": "9f35c194d03338e1a9e24d771fb28c2e",
     "grade": true,
     "grade_id": "cell-80c89e10a60f6ce2",
     "locked": true,
     "points": 5,
     "schema_version": 1,
     "solution": false
    }
   },
   "outputs": [],
   "source": [
    "# tests for 5 points\n",
    "assert type(example_tree) == str\n",
    "assert 'DecisionTreeRegressionModel' in example_tree\n",
    "assert 'feature 0' in example_tree\n",
    "assert 'If' in example_tree\n",
    "assert 'Else' in example_tree\n",
    "assert 'Predict' in example_tree"
   ]
  },
  {
   "cell_type": "markdown",
   "metadata": {},
   "source": [
    "# **Question 7 (5 pts)**\n",
    "\n",
    "Gradient boosted trees are becoming increasingly popular for competitions. There is a high-performance implementation, [xgboost](https://en.wikipedia.org/wiki/XGBoost), that is particularly popular. Compare gradient boosted regression to the best model found with random forest in Question 3. Use the validation set. For GBR, use all the default parameters except make `seed=0`. Assign the pipeline and the $R^2$ of the model to `gbr_pipe` and `R2_gbr`, respectively. Does it have an amazing or dissapointing $R^2$? Comment."
   ]
  },
  {
   "cell_type": "code",
   "execution_count": 19,
   "metadata": {
    "deletable": false,
    "nbgrader": {
     "checksum": "d399ce658c943b8f572a428367c1725e",
     "grade": false,
     "grade_id": "cell-edab7ea019e8b267",
     "locked": false,
     "schema_version": 1,
     "solution": true
    }
   },
   "outputs": [
    {
     "data": {
      "text/plain": [
       "0.852350432034137"
      ]
     },
     "execution_count": 19,
     "metadata": {},
     "output_type": "execute_result"
    }
   ],
   "source": [
    "# YOUR CODE HERE\n",
    "from pyspark.ml import feature, classification\n",
    "gbr_pipe = Pipeline(stages=[feature.VectorAssembler(inputCols=['cylinders','displacement','horsepower','weight','acceleration','year','origin'], \n",
    "                                                    outputCol='feature'), regression.GBTRegressor(featuresCol=\"feature\",labelCol='mpg', seed=0)]).fit(training_df)\n",
    "R2_gbr = evaluator.evaluate(gbr_pipe.transform(validation_df))\n",
    "R2_gbr"
   ]
  },
  {
   "cell_type": "code",
   "execution_count": 20,
   "metadata": {},
   "outputs": [
    {
     "name": "stdout",
     "output_type": "stream",
     "text": [
      "Performance of best RF:  0.8799114180154942\n",
      "Performance of GBR:  0.852350432034137\n"
     ]
    }
   ],
   "source": [
    "# test your models here\n",
    "print(\"Performance of best RF: \", evaluator.evaluate(best_model.transform(validation_df)))\n",
    "print(\"Performance of GBR: \", R2_gbr)"
   ]
  },
  {
   "cell_type": "code",
   "execution_count": 21,
   "metadata": {
    "deletable": false,
    "editable": false,
    "nbgrader": {
     "checksum": "7636ddf552f508aaa5952350f9b0a210",
     "grade": true,
     "grade_id": "cell-f7b1ed961851c406",
     "locked": true,
     "points": 5,
     "schema_version": 1,
     "solution": false
    }
   },
   "outputs": [],
   "source": [
    "# tests for 5 pts\n",
    "np.testing.assert_equal(type(gbr_pipe.stages[0]), feature.VectorAssembler)\n",
    "np.testing.assert_equal(type(gbr_pipe.stages[1]), regression.GBTRegressionModel)\n",
    "np.testing.assert_equal(type(gbr_pipe.transform(validation_df)), pyspark.sql.dataframe.DataFrame)\n",
    "np.testing.assert_array_less(R2_gbr, 1.)\n",
    "np.testing.assert_array_less(0.5, R2_gbr)"
   ]
  },
  {
   "cell_type": "markdown",
   "metadata": {},
   "source": [
    "### Comment\n",
    "The r sqaure of Random Forest is better as compared to gradient boosting regressor marginally. The R square value is good for both Random forest as well Gradient boosting regressor, however it is not amazing."
   ]
  }
 ],
 "metadata": {
  "kernelspec": {
   "display_name": "Python 3",
   "language": "python",
   "name": "python3"
  },
  "language_info": {
   "codemirror_mode": {
    "name": "ipython",
    "version": 3
   },
   "file_extension": ".py",
   "mimetype": "text/x-python",
   "name": "python",
   "nbconvert_exporter": "python",
   "pygments_lexer": "ipython3",
   "version": "3.6.7"
  }
 },
 "nbformat": 4,
 "nbformat_minor": 2
}
