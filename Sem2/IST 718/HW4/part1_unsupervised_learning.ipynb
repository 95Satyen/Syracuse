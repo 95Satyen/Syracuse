{
 "cells": [
  {
   "cell_type": "markdown",
   "metadata": {
    "deletable": false,
    "editable": false,
    "nbgrader": {
     "checksum": "4e6cefb0049d48a2f4648d752841bb06",
     "grade": false,
     "grade_id": "cell-b038e38b5e3072a9",
     "locked": true,
     "schema_version": 1,
     "solution": false
    }
   },
   "source": [
    "# IST 718: Big Data Analytics\n",
    "\n",
    "- Professor: Daniel Acuna <deacuna@syr.edu>\n",
    "- TAs: Tong Zeng <tozeng@syr.edu>, Priya Matnani <psmatnan@syr.edu>\n",
    "\n",
    "## General instructions:\n",
    "\n",
    "- You are welcome to discuss the problems with your classmates but __you are not allowed to copy any part of your answers either from your classmates or from the internet__\n",
    "- You can put the homework files anywhere you want in your http://notebook.acuna.io workspace but _do not change_ the file names. The TAs and the professor use these names to grade your homework.\n",
    "- Remove or comment out code that contains `raise NotImplementedError`. This is mainly to make the `assert` statement fail if nothing is submitted.\n",
    "- The tests shown in some cells (i.e., `assert` and `np.testing.` statements) are used to grade your answers. **However, the professor and TAs will use __additional__ test for your answer. Think about cases where your code should run even if it passess all the tests you see.**\n",
    "- Before downloading and submitting your work through Blackboard, remember to save and press `Validate` (or go to \n",
    "`Kernel`$\\rightarrow$`Restart and Run All`). \n",
    "- Good luck!"
   ]
  },
  {
   "cell_type": "code",
   "execution_count": 25,
   "metadata": {},
   "outputs": [],
   "source": [
    "# load these packages\n",
    "from pyspark.ml import feature\n",
    "from pyspark.ml import clustering\n",
    "from pyspark.ml import Pipeline\n",
    "from pyspark.sql import functions as fn\n",
    "import numpy as np\n",
    "from pyspark.sql import SparkSession\n",
    "from pyspark.ml import feature, regression, evaluation, Pipeline\n",
    "from pyspark.sql import functions as fn, Row\n",
    "import matplotlib.pyplot as plt\n",
    "spark = SparkSession.builder.getOrCreate()\n",
    "sc = spark.sparkContext\n",
    "import pandas as pd"
   ]
  },
  {
   "cell_type": "markdown",
   "metadata": {},
   "source": [
    "# Part 1. Unsupervised learning\n",
    "\n",
    "I would recommend to follow the notebook `unsupervised_learning.ipynb` first, shared through the IST 718 repository."
   ]
  },
  {
   "cell_type": "markdown",
   "metadata": {},
   "source": [
    "The following dataset contains information about dozens of \"data science\" programs across the US."
   ]
  },
  {
   "cell_type": "code",
   "execution_count": 26,
   "metadata": {
    "deletable": false,
    "editable": false,
    "nbgrader": {
     "checksum": "217136238553b4e5dc984196253f311e",
     "grade": false,
     "grade_id": "cell-8898c04579b9221e",
     "locked": true,
     "schema_version": 1,
     "solution": false
    }
   },
   "outputs": [],
   "source": [
    "ds_programs_df = spark.read.csv('/datasets/colleges_data_science_programs.csv',\n",
    "                               inferSchema=True, header=True).\\\n",
    "                 fillna('').orderBy('id')"
   ]
  },
  {
   "cell_type": "code",
   "execution_count": 27,
   "metadata": {},
   "outputs": [],
   "source": [
    "#ds_programs_df.show()"
   ]
  },
  {
   "cell_type": "markdown",
   "metadata": {},
   "source": [
    "## Question 1: (10 pts)\n",
    "\n",
    "This dataset contains many columns that we can use to understand how these data science programs differ from one another. In this question, you will create a dataframe `ds_programs_text_df` which simply adds a column `text` to the dataframe `ds_programs_df`. This column will have the concatenation of the following columns separated by a space: `program`, `degree` and `department` (find the appropriate function in the `fn` package)"
   ]
  },
  {
   "cell_type": "code",
   "execution_count": 28,
   "metadata": {
    "deletable": false,
    "nbgrader": {
     "checksum": "cb982914cbab5d8d552cafcab8a6f41b",
     "grade": false,
     "grade_id": "cell-18ebd4f77c37a8e3",
     "locked": false,
     "schema_version": 1,
     "solution": true
    }
   },
   "outputs": [],
   "source": [
    "# (10 pts) Create ds_programs_text_df here\n",
    "import pyspark\n",
    "from pyspark.sql import functions as fn\n",
    "ds_programs_text_df = ds_programs_df.withColumn('text', \\\n",
    "                      fn.concat(fn.col('program'),fn.lit(' '), fn.col('degree'),fn.lit(' '),fn.col('department')))\n",
    "#ds_programs_text_df.show(1)"
   ]
  },
  {
   "cell_type": "markdown",
   "metadata": {},
   "source": [
    "An example of the `ds_programs_text_df` should give you:\n",
    "\n",
    "```python\n",
    "ds_programs_text_df.orderBy('id').first().text\n",
    "```\n",
    "\n",
    "```console\n",
    "'Data Science Masters Mathematics and Statistics'\n",
    "```"
   ]
  },
  {
   "cell_type": "code",
   "execution_count": 29,
   "metadata": {
    "deletable": false,
    "editable": false,
    "nbgrader": {
     "checksum": "ed593a17eab4017a9129cd4ad457fc98",
     "grade": true,
     "grade_id": "cell-20fb7c865c3ddf0e",
     "locked": true,
     "points": 10,
     "schema_version": 1,
     "solution": false
    }
   },
   "outputs": [],
   "source": [
    "# (10 pts)\n",
    "np.testing.assert_equal(ds_programs_text_df.count(), 222)\n",
    "np.testing.assert_equal(set(ds_programs_text_df.columns), {'admit_reqs',\n",
    " 'business',\n",
    " 'capstone',\n",
    " 'cost',\n",
    " 'country',\n",
    " 'courses',\n",
    " 'created_at',\n",
    " 'databases',\n",
    " 'degree',\n",
    " 'department',\n",
    " 'ethics',\n",
    " 'id',\n",
    " 'machine learning',\n",
    " 'mapreduce',\n",
    " 'name',\n",
    " 'notes',\n",
    " 'oncampus',\n",
    " 'online',\n",
    " 'part-time',\n",
    " 'program',\n",
    " 'program_size',\n",
    " 'programminglanguages',\n",
    " 'state',\n",
    " 'text',\n",
    " 'university_count',\n",
    " 'updated_at',\n",
    " 'url',\n",
    " 'visualization', \n",
    " 'year_founded'})\n",
    "np.testing.assert_array_equal(ds_programs_text_df.orderBy('id').rdd.map(lambda x: x.text).take(5),\n",
    "                              ['Data Science Masters Mathematics and Statistics',\n",
    " 'Analytics Masters Business and Information Systems',\n",
    " 'Data Science Masters Computer Science',\n",
    " 'Business Intelligence & Analytics Masters Business',\n",
    " 'Advanced Computer Science(Data Analytics) Masters Computer Science'])"
   ]
  },
  {
   "cell_type": "markdown",
   "metadata": {},
   "source": [
    "# Question 2: (10 pts) \n",
    "\n",
    "The following code creates a dataframe `ds_features_df` which adds a column `features` to `ds_programs_text_df` that contains the `tfidf` of the column `text`:"
   ]
  },
  {
   "cell_type": "code",
   "execution_count": 30,
   "metadata": {
    "deletable": false,
    "editable": false,
    "nbgrader": {
     "checksum": "2cb3933b05c489ba7cadcdc1a3abc02d",
     "grade": false,
     "grade_id": "cell-8d401e50a125c6f3",
     "locked": true,
     "schema_version": 1,
     "solution": false
    }
   },
   "outputs": [],
   "source": [
    "# read-only\n",
    "pipe_features = \\\n",
    "    Pipeline(stages=[\n",
    "        feature.Tokenizer(inputCol='text', outputCol='words'),\n",
    "        feature.CountVectorizer(inputCol='words', outputCol='tf'),\n",
    "        feature.IDF(inputCol='tf', outputCol='tfidf'),\n",
    "        feature.StandardScaler(withStd=False, withMean=True, inputCol='tfidf', outputCol='features')]).\\\n",
    "    fit(ds_programs_text_df)"
   ]
  },
  {
   "cell_type": "markdown",
   "metadata": {},
   "source": [
    "Create a pipeline model `pipe_pca` that computes the two first principal components of `features` as computed by `pipe_features` and outputs a column `pc`. Use that pipeline to create a dataframe `ds_features_df` with the columns `id`, `name`, `url`, and `pc`."
   ]
  },
  {
   "cell_type": "code",
   "execution_count": 31,
   "metadata": {
    "deletable": false,
    "nbgrader": {
     "checksum": "fe5246f975004002ec6318349b882137",
     "grade": false,
     "grade_id": "cell-cab09e882ef8f6d1",
     "locked": false,
     "schema_version": 1,
     "solution": true
    }
   },
   "outputs": [
    {
     "name": "stdout",
     "output_type": "stream",
     "text": [
      "+---+--------------------+--------------------+--------------------+\n",
      "| id|                name|                 url|                  pc|\n",
      "+---+--------------------+--------------------+--------------------+\n",
      "|  1|South Dakota Stat...|http://www.sdstat...|[-0.1851045942702...|\n",
      "|  2|Dakota State Univ...|http://www.dsu.ed...|[0.04778735780622...|\n",
      "|  3|    Lewis University|http://www.lewisu...|[0.15059513165244...|\n",
      "|  4|Saint Joseph's Un...|http://online.sju...|[-1.0213494464749...|\n",
      "|  5| University Of Leeds|http://www.engine...|[0.25310990159079...|\n",
      "|  6|Arizona State Uni...|http://wpcarey.as...|[-0.7124372828488...|\n",
      "|  7|University Of Cen...|http://dms.stat.u...|[-0.7192035002509...|\n",
      "|  8|Hong Kong Univers...|http://www.rmbi.u...|[-0.3954566959284...|\n",
      "|  9|University of Tex...|https://jindal.ut...|[-0.6810101860434...|\n",
      "| 10|The Ohio State Un...|https://data-anal...|[-0.3117547770561...|\n",
      "| 11|University of Roc...|http://www.roches...|[-0.0921008008589...|\n",
      "| 12|         TU Dortmund|http://www.statis...|[-0.2747495152613...|\n",
      "| 13|         TU Dortmund|http://www.statis...|[-0.4139174280334...|\n",
      "| 14|Maastricht Univer...|http://www.maastr...|[-0.6552859945296...|\n",
      "| 15|University of Ark...|http://ualr.edu/i...|[0.40657875771616...|\n",
      "| 16|Worcester Polytec...|http://www.wpi.ed...|[-0.3100102854252...|\n",
      "| 17|University Of Col...|http://leeds.colo...|[-0.8322389320565...|\n",
      "| 18|Colorado Technica...|http://www.colora...|[0.23603288360634...|\n",
      "| 19|    Elmhurst College|http://public.elm...|[-0.4003304983025...|\n",
      "| 20|University of the...|http://www.ufv.ca...|[-0.3350978538905...|\n",
      "+---+--------------------+--------------------+--------------------+\n",
      "only showing top 20 rows\n",
      "\n"
     ]
    }
   ],
   "source": [
    "# create the pipe_pca PipelineModel below (10 pts)\n",
    "from pyspark.sql.types import IntegerType\n",
    "pipe_pca = Pipeline(stages=[pipe_features,feature.PCA(k=2, inputCol='features', outputCol='pc')]).fit(ds_programs_text_df)\n",
    "principal_components = pipe_pca.stages[-1].pc.toArray()\n",
    "#principal_components\n",
    "ds_features_df = pipe_pca.transform(ds_programs_text_df).select('id', 'name', 'url', 'pc')\n",
    "ds_features_df.select('id', 'name', 'url', 'pc').show()"
   ]
  },
  {
   "cell_type": "code",
   "execution_count": 32,
   "metadata": {
    "deletable": false,
    "editable": false,
    "nbgrader": {
     "checksum": "cd76439d72e701ddd0a2bf23df5affc1",
     "grade": true,
     "grade_id": "cell-b31329e505038ee3",
     "locked": true,
     "points": 10,
     "schema_version": 1,
     "solution": false
    }
   },
   "outputs": [],
   "source": [
    "# Tests for (10 pts)\n",
    "np.testing.assert_equal(pipe_pca.stages[0],  pipe_features)\n",
    "np.testing.assert_equal(type(pipe_pca.stages[1]),  feature.PCAModel)\n",
    "np.testing.assert_equal(set(ds_features_df.columns), {'id', 'name', 'pc', 'url'})\n",
    "np.testing.assert_equal(ds_features_df.first().pc.shape, (2, ))"
   ]
  },
  {
   "cell_type": "markdown",
   "metadata": {},
   "source": [
    "# Question 3: (10 pts)\n",
    "\n",
    "Create a scatter plot with the x axis containing the first principal component and the y axis containing the second principal component of `ds_features_df`"
   ]
  },
  {
   "cell_type": "code",
   "execution_count": 33,
   "metadata": {
    "deletable": false,
    "nbgrader": {
     "checksum": "25f8bfc0359ff722d557a39233e1bfe2",
     "grade": true,
     "grade_id": "cell-cfe761874325794d",
     "locked": false,
     "points": 10,
     "schema_version": 1,
     "solution": true
    }
   },
   "outputs": [
    {
     "data": {
      "text/plain": [
       "<matplotlib.collections.PathCollection at 0x7f56a15105f8>"
      ]
     },
     "execution_count": 33,
     "metadata": {},
     "output_type": "execute_result"
    },
    {
     "data": {
      "image/png": "[encoded data removed]",
      "text/plain": [
       "<Figure size 432x288 with 1 Axes>"
      ]
     },
     "metadata": {
      "needs_background": "light"
     },
     "output_type": "display_data"
    }
   ],
   "source": [
    "# below perform the appropriate \n",
    "# YOUR CODE HERE\n",
    "pc1 = principal_components[:, 0].tolist()\n",
    "pc2 = principal_components[:, 1].tolist()\n",
    "fig, ax = plt.subplots()\n",
    "ax.scatter(pc1, pc2)"
   ]
  },
  {
   "cell_type": "markdown",
   "metadata": {},
   "source": [
    "# Question 4 (10 pts)\n",
    "\n",
    "Create two Pandas dataframes `pc1_pd` and `pc2_pd` with the columns `word` and `abs_loading` that contain the top 5 words in absolute loading for the principal components 1 and 2, respetively. You can extract the vocabulary from the stage that contains the count vectorizer in `pipe_features`:"
   ]
  },
  {
   "cell_type": "code",
   "execution_count": 34,
   "metadata": {
    "deletable": false,
    "nbgrader": {
     "checksum": "21ba70a5a4393b6c5f5d5ce14bca6f26",
     "grade": false,
     "grade_id": "cell-f9d1641edcc927e5",
     "locked": false,
     "schema_version": 1,
     "solution": true
    }
   },
   "outputs": [
    {
     "data": {
      "text/plain": [
       "['masters',\n",
       " 'data',\n",
       " 'business',\n",
       " 'analytics',\n",
       " 'and',\n",
       " 'science',\n",
       " 'mining',\n",
       " 'computer',\n",
       " 'statistics',\n",
       " 'information',\n",
       " 'intelligence',\n",
       " 'bachelors',\n",
       " 'engineering',\n",
       " 'of',\n",
       " 'certificate',\n",
       " 'management',\n",
       " 'big',\n",
       " 'sciences',\n",
       " 'doctorate',\n",
       " 'computational',\n",
       " 'systems',\n",
       " 'machine',\n",
       " 'school',\n",
       " 'computing',\n",
       " 'informatics',\n",
       " 'learning',\n",
       " '&',\n",
       " 'studies',\n",
       " 'interdisciplinary',\n",
       " 'professional',\n",
       " 'for',\n",
       " 'college',\n",
       " 'analysis',\n",
       " 'none',\n",
       " 'knowledge',\n",
       " 'applied',\n",
       " 'mathematics',\n",
       " 'social',\n",
       " 'predictive',\n",
       " 'institute',\n",
       " 'astronomy,',\n",
       " 'continuing',\n",
       " 'physics,',\n",
       " 'in',\n",
       " 'advanced',\n",
       " 'decision',\n",
       " 'extension',\n",
       " 'concentration',\n",
       " 'artificial',\n",
       " 'development',\n",
       " 'center',\n",
       " 'marketing',\n",
       " 'graduate',\n",
       " 'quality',\n",
       " \"master's\",\n",
       " 'cloud',\n",
       " 'minor',\n",
       " 'humanities',\n",
       " 'programs',\n",
       " 'consulting',\n",
       " 'web',\n",
       " 'specialization',\n",
       " '',\n",
       " 'massive',\n",
       " 'analytic',\n",
       " 'software',\n",
       " 'science)',\n",
       " 'uci',\n",
       " 'automatic',\n",
       " 'sas',\n",
       " '-',\n",
       " 'science,',\n",
       " 'liberal',\n",
       " 'science:',\n",
       " 'industrial',\n",
       " 'graham',\n",
       " 'discovery',\n",
       " 'usiness',\n",
       " '(',\n",
       " '/',\n",
       " 'support',\n",
       " 'operations',\n",
       " 'warehousing',\n",
       " 'specialisation',\n",
       " 'phd',\n",
       " 'processing',\n",
       " 'modelling',\n",
       " 'i.s.',\n",
       " '(machine',\n",
       " 'analytics)',\n",
       " 'algorithms',\n",
       " 'learning)',\n",
       " 'medicine',\n",
       " 'statistical',\n",
       " 'academic',\n",
       " 'project',\n",
       " 'research,',\n",
       " 'media',\n",
       " 'interactive',\n",
       " 'sets',\n",
       " 'text',\n",
       " 'biomedical',\n",
       " 'strategic',\n",
       " 'bioinformatics',\n",
       " 'program',\n",
       " 'intelligent',\n",
       " 'arts',\n",
       " 'statistics,',\n",
       " 'customer',\n",
       " 'applications',\n",
       " 'volgenau',\n",
       " 'uc',\n",
       " 'berkely',\n",
       " 'business,',\n",
       " 'education',\n",
       " 'adult',\n",
       " 'science(data',\n",
       " 'risk']"
      ]
     },
     "execution_count": 34,
     "metadata": {},
     "output_type": "execute_result"
    }
   ],
   "source": [
    "# YOUR CODE HERE\n",
    "vocabulary = pipe_features.stages[1].vocabulary\n",
    "vocabulary\n",
    "pc_loadings1 = pd.DataFrame([vocabulary, pc1]).T.rename(columns={0: 'word', 1: 'abs_loading'})\n",
    "pc_loadings2 = pd.DataFrame([vocabulary, pc2]).T.rename(columns={0: 'word', 1: 'abs_loading'})\n",
    "\n",
    "pc1_pd = pc_loadings1.sort_values('abs_loading').\\\n",
    "         apply({'word': lambda x: x, 'abs_loading': np.abs}, axis=0).head(5)\n",
    "pc2_pd = pc_loadings2.sort_values('abs_loading').\\\n",
    "         apply({'word': lambda x: x, 'abs_loading': np.abs}, axis=0).head(5)\n",
    "vocabulary"
   ]
  },
  {
   "cell_type": "code",
   "execution_count": 35,
   "metadata": {},
   "outputs": [
    {
     "data": {
      "text/html": [
       "<div>\n",
       "<style scoped>\n",
       "    .dataframe tbody tr th:only-of-type {\n",
       "        vertical-align: middle;\n",
       "    }\n",
       "\n",
       "    .dataframe tbody tr th {\n",
       "        vertical-align: top;\n",
       "    }\n",
       "\n",
       "    .dataframe thead th {\n",
       "        text-align: right;\n",
       "    }\n",
       "</style>\n",
       "<table border=\"1\" class=\"dataframe\">\n",
       "  <thead>\n",
       "    <tr style=\"text-align: right;\">\n",
       "      <th></th>\n",
       "      <th>word</th>\n",
       "      <th>abs_loading</th>\n",
       "    </tr>\n",
       "  </thead>\n",
       "  <tbody>\n",
       "    <tr>\n",
       "      <th>2</th>\n",
       "      <td>business</td>\n",
       "      <td>0.138929</td>\n",
       "    </tr>\n",
       "    <tr>\n",
       "      <th>6</th>\n",
       "      <td>mining</td>\n",
       "      <td>0.0605211</td>\n",
       "    </tr>\n",
       "    <tr>\n",
       "      <th>3</th>\n",
       "      <td>analytics</td>\n",
       "      <td>0.0599323</td>\n",
       "    </tr>\n",
       "    <tr>\n",
       "      <th>10</th>\n",
       "      <td>intelligence</td>\n",
       "      <td>0.0498404</td>\n",
       "    </tr>\n",
       "    <tr>\n",
       "      <th>8</th>\n",
       "      <td>statistics</td>\n",
       "      <td>0.0421918</td>\n",
       "    </tr>\n",
       "  </tbody>\n",
       "</table>\n",
       "</div>"
      ],
      "text/plain": [
       "            word abs_loading\n",
       "2       business    0.138929\n",
       "6         mining   0.0605211\n",
       "3      analytics   0.0599323\n",
       "10  intelligence   0.0498404\n",
       "8     statistics   0.0421918"
      ]
     },
     "execution_count": 35,
     "metadata": {},
     "output_type": "execute_result"
    }
   ],
   "source": [
    "pc1_pd"
   ]
  },
  {
   "cell_type": "code",
   "execution_count": 36,
   "metadata": {},
   "outputs": [
    {
     "data": {
      "text/html": [
       "<div>\n",
       "<style scoped>\n",
       "    .dataframe tbody tr th:only-of-type {\n",
       "        vertical-align: middle;\n",
       "    }\n",
       "\n",
       "    .dataframe tbody tr th {\n",
       "        vertical-align: top;\n",
       "    }\n",
       "\n",
       "    .dataframe thead th {\n",
       "        text-align: right;\n",
       "    }\n",
       "</style>\n",
       "<table border=\"1\" class=\"dataframe\">\n",
       "  <thead>\n",
       "    <tr style=\"text-align: right;\">\n",
       "      <th></th>\n",
       "      <th>word</th>\n",
       "      <th>abs_loading</th>\n",
       "    </tr>\n",
       "  </thead>\n",
       "  <tbody>\n",
       "    <tr>\n",
       "      <th>19</th>\n",
       "      <td>computational</td>\n",
       "      <td>0.317074</td>\n",
       "    </tr>\n",
       "    <tr>\n",
       "      <th>2</th>\n",
       "      <td>business</td>\n",
       "      <td>0.201894</td>\n",
       "    </tr>\n",
       "    <tr>\n",
       "      <th>42</th>\n",
       "      <td>physics,</td>\n",
       "      <td>0.18139</td>\n",
       "    </tr>\n",
       "    <tr>\n",
       "      <th>40</th>\n",
       "      <td>astronomy,</td>\n",
       "      <td>0.18139</td>\n",
       "    </tr>\n",
       "    <tr>\n",
       "      <th>22</th>\n",
       "      <td>school</td>\n",
       "      <td>0.169347</td>\n",
       "    </tr>\n",
       "  </tbody>\n",
       "</table>\n",
       "</div>"
      ],
      "text/plain": [
       "             word abs_loading\n",
       "19  computational    0.317074\n",
       "2        business    0.201894\n",
       "42       physics,     0.18139\n",
       "40     astronomy,     0.18139\n",
       "22         school    0.169347"
      ]
     },
     "execution_count": 36,
     "metadata": {},
     "output_type": "execute_result"
    }
   ],
   "source": [
    "pc2_pd"
   ]
  },
  {
   "cell_type": "code",
   "execution_count": 37,
   "metadata": {
    "deletable": false,
    "editable": false,
    "nbgrader": {
     "checksum": "8938af66299fabeeec8ed71ca0955592",
     "grade": true,
     "grade_id": "cell-6d6497bbef7511c8",
     "locked": true,
     "points": 10,
     "schema_version": 1,
     "solution": false
    }
   },
   "outputs": [],
   "source": [
    "# (10 pts)\n",
    "assert type(pc1_pd) == pd.core.frame.DataFrame\n",
    "assert type(pc2_pd) == pd.core.frame.DataFrame\n",
    "np.testing.assert_array_equal(pc1_pd.shape, (5, 2))\n",
    "np.testing.assert_array_equal(pc2_pd.shape, (5, 2))\n",
    "np.testing.assert_equal(set(pc1_pd.columns), {'abs_loading', 'word'})\n",
    "np.testing.assert_equal(set(pc2_pd.columns), {'abs_loading', 'word'})"
   ]
  },
  {
   "cell_type": "markdown",
   "metadata": {},
   "source": [
    "# Question 5: (10 pts)\n",
    "\n",
    "Create a new pipeline for PCA called `pipe_pca2` where you fit 50 principal components. Extract the the `PCAModel` from the stages of this pipeline, and assign to a variable `explainedVariance` the variance explained by components of such model. Finally, assign to a variable `best_k` the value $k$ such that ($k+1$)-th component is not able to explain more than 0.01 variance. You can use a for-loop to find such best k."
   ]
  },
  {
   "cell_type": "code",
   "execution_count": 39,
   "metadata": {
    "deletable": false,
    "nbgrader": {
     "checksum": "8f1eb781acb7a61a4176067666602247",
     "grade": false,
     "grade_id": "cell-3c9669871f98d13c",
     "locked": false,
     "schema_version": 1,
     "solution": true
    }
   },
   "outputs": [
    {
     "name": "stdout",
     "output_type": "stream",
     "text": [
      "best k: 31\n"
     ]
    }
   ],
   "source": [
    "# YOUR CODE HERE\n",
    "pipe_pca2 = Pipeline(stages=[pipe_features,feature.PCA(k=50, inputCol='features', outputCol='pc')]).fit(ds_programs_text_df)\n",
    "explainedVariance = pipe_pca2.stages[-1].explainedVariance\n",
    "explainedVariance\n",
    "for i in range(0,len(explainedVariance)-1):\n",
    "    if((explainedVariance[i+1])<=0.01):\n",
    "        temp = i\n",
    "        break        \n",
    "best_k = temp\n",
    "print(\"best k:\",best_k)"
   ]
  },
  {
   "cell_type": "code",
   "execution_count": 40,
   "metadata": {
    "deletable": false,
    "editable": false,
    "nbgrader": {
     "checksum": "3dbe273df3603e6abf6b49f60bac91e7",
     "grade": true,
     "grade_id": "cell-ccc5cf39716a4854",
     "locked": true,
     "points": 10,
     "schema_version": 1,
     "solution": false
    }
   },
   "outputs": [],
   "source": [
    "# Tests for (10 pts)\n",
    "np.testing.assert_equal(pipe_pca2.stages[0],  pipe_features)\n",
    "np.testing.assert_equal(type(pipe_pca2.stages[1]),  feature.PCAModel)\n",
    "np.testing.assert_equal(len(explainedVariance), 50)\n",
    "np.testing.assert_array_less(5, best_k)"
   ]
  }
 ],
 "metadata": {
  "kernelspec": {
   "display_name": "Python 3",
   "language": "python",
   "name": "python3"
  },
  "language_info": {
   "codemirror_mode": {
    "name": "ipython",
    "version": 3
   },
   "file_extension": ".py",
   "mimetype": "text/x-python",
   "name": "python",
   "nbconvert_exporter": "python",
   "pygments_lexer": "ipython3",
   "version": "3.6.6"
  }
 },
 "nbformat": 4,
 "nbformat_minor": 2
}
