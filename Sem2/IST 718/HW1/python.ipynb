{
 "cells": [
  {
   "cell_type": "markdown",
   "metadata": {
    "deletable": false,
    "editable": false,
    "nbgrader": {
     "checksum": "4e6cefb0049d48a2f4648d752841bb06",
     "grade": false,
     "grade_id": "cell-b038e38b5e3072a9",
     "locked": true,
     "schema_version": 1,
     "solution": false
    }
   },
   "source": [
    "# IST 718: Big Data Analytics\n",
    "\n",
    "- Professor: Daniel Acuna <deacuna@syr.edu>\n",
    "- TAs: Tong Zeng <tozeng@syr.edu>, Priya Matnani <psmatnan@syr.edu>\n",
    "\n",
    "## General instructions:\n",
    "\n",
    "- You are welcome to discuss the problems with your classmates but __you are not allowed to copy any part of your answers either from your classmates or from the internet__\n",
    "- You can put the homework files anywhere you want in your http://notebook.acuna.io workspace but _do not change_ the file names. The TAs and the professor use these names to grade your homework.\n",
    "- Remove or comment out code that contains `raise NotImplementedError`. This is mainly to make the `assert` statement fail if nothing is submitted.\n",
    "- The tests shown in some cells (i.e., `assert` and `np.testing.` statements) are used to grade your answers. **However, the professor and TAs will use __additional__ test for your answer. Think about cases where your code should run even if it passess all the tests you see.**\n",
    "- Before downloading and submitting your work through Blackboard, remember to save and press `Validate` (or go to \n",
    "`Kernel`$\\rightarrow$`Restart and Run All`). \n",
    "- Good luck!"
   ]
  },
  {
   "cell_type": "code",
   "execution_count": 4,
   "metadata": {},
   "outputs": [],
   "source": [
    "# import packages needed\n",
    "import numpy as np\n",
    "import pandas as pd\n",
    "import matplotlib.pyplot as plt"
   ]
  },
  {
   "cell_type": "markdown",
   "metadata": {},
   "source": [
    "## Part 3. Basic Python programming"
   ]
  },
  {
   "cell_type": "markdown",
   "metadata": {},
   "source": [
    "**Question 3.1 (10 pts)** Reverse the words in a sentence. Implement a function `scramble_sentence` that takes a sentence as a string and returns a string where the words have been reversed. For example, `scramble_sentence(\"Hello World\")` should return `\"olleH dlroW\"`. Consider that strings are just like any other sequence such as lists and tuples and therefore can be accessed with the slice notation. Also you can use the method `slice` of string object to split a sentence into its individual words and `join` to put a list of strings inside another string. For example, `\" \".join([\"hello\", \"world\"])` will create `\"hello world\"`. You can use list comprehensions or for-loops to solve this problem."
   ]
  },
  {
   "cell_type": "code",
   "execution_count": 5,
   "metadata": {
    "deletable": false,
    "nbgrader": {
     "checksum": "085f5b48fbce649d8e6a5f12381f40ce",
     "grade": false,
     "grade_id": "cell-5eb87107d2800505",
     "locked": false,
     "schema_version": 1,
     "solution": true
    }
   },
   "outputs": [],
   "source": [
    "# Create the function scramble_sentence below\n",
    "def scramble_sentence(argument) :\n",
    "    words = argument.split(\" \")\n",
    "    def reverseWord(word):\n",
    "        temp = \"\"\n",
    "        for index in word:\n",
    "            temp = index + temp\n",
    "        word = temp\n",
    "        return word\n",
    "    \n",
    "    leny = len(words)\n",
    "    for i in range(leny):\n",
    "        words[i]= reverseWord(words[i])\n",
    "        \n",
    "    words2 = \" \"\n",
    "    words2 = words2.join(words)\n",
    "    return words2\n",
    "\n",
    "# raise NotImplementedError()"
   ]
  },
  {
   "cell_type": "code",
   "execution_count": 6,
   "metadata": {
    "deletable": false,
    "editable": false,
    "nbgrader": {
     "checksum": "a7df4d1af963986a3fe08561bd7180a4",
     "grade": true,
     "grade_id": "cell-17c0ac01cace4b18",
     "locked": true,
     "points": 10,
     "schema_version": 1,
     "solution": false
    }
   },
   "outputs": [],
   "source": [
    "# 5 pts\n",
    "np.testing.assert_equal(scramble_sentence(\"Hello World\"), \"olleH dlroW\")\n",
    "np.testing.assert_equal(scramble_sentence(\"Data Science\"), \"ataD ecneicS\")"
   ]
  },
  {
   "cell_type": "markdown",
   "metadata": {},
   "source": [
    "**Question 3.2 (10 pts)** Basic statistics. Create a function `statistic` which receives two parameters: a list of floating point numbers and a statistic. The statistic will be a string containing either `\"max\"`, `\"min\"`, or `\"average\"`. The function will return the provided statistic of the list. For example, `statistic([1.0, 3.5, 6.0], \"max\")` should return `6.0`, `statistic([1.0, 3.5, 6.0], \"min\")` should return `1.0`, and `statistic([1.0, 3.5, 6.0], \"average\")` should return `3.5`. If the statistic provided is not part of min, max, or average, return the string \"Error\". Don't assume that the list is a numpy array but rather a vanilla Python list."
   ]
  },
  {
   "cell_type": "code",
   "execution_count": 7,
   "metadata": {
    "deletable": false,
    "nbgrader": {
     "checksum": "93c89a396ab6aa6ace9fe98663691b74",
     "grade": false,
     "grade_id": "cell-48471c8515aa4e5c",
     "locked": false,
     "schema_version": 1,
     "solution": true
    }
   },
   "outputs": [],
   "source": [
    "# create the function statistic here\n",
    "def statistic(values,statistic):\n",
    "    def maxV(statistic):\n",
    "        max = values[0]\n",
    "        for i in range(1,len(values)):\n",
    "            if(values[i]>max):\n",
    "                max=values[i]\n",
    "        return max\n",
    "    def minV(statistic):\n",
    "        min = values[0]\n",
    "        for i in range(1,len(values)):\n",
    "            if(values[i]<min):\n",
    "                min=values[i]\n",
    "        return min\n",
    "    def average(statistic):\n",
    "        sum=0\n",
    "        for i in range(0,len(values)):\n",
    "            sum+=values[i]\n",
    "        average=0\n",
    "        if(len(values)>0):\n",
    "            average = sum / len(values)    \n",
    "        return average\n",
    "    if(statistic == 'min'):\n",
    "        return minV(values)\n",
    "    elif(statistic=='max'):\n",
    "        return maxV(values)\n",
    "    elif(statistic=='average'):\n",
    "        return average(values)\n",
    "    else: \n",
    "        return \"Error\"\n",
    "\n",
    "#raise NotImplementedError()"
   ]
  },
  {
   "cell_type": "code",
   "execution_count": 8,
   "metadata": {
    "deletable": false,
    "editable": false,
    "nbgrader": {
     "checksum": "6b1edd0d9d53b10bbac4383a72a9676d",
     "grade": true,
     "grade_id": "cell-fc6a0f4ea3e7d63d",
     "locked": true,
     "points": 10,
     "schema_version": 1,
     "solution": false
    }
   },
   "outputs": [],
   "source": [
    "# 5 pts\n",
    "np.testing.assert_equal(statistic([1.0, 3.5, 6.0], \"max\"), 6.0)\n",
    "np.testing.assert_equal(statistic([1.0, 3.5, 6.0], \"min\"), 1.0)\n",
    "np.testing.assert_equal(statistic([1.0, 3.5, 6.0], \"average\"), 3.5)\n",
    "np.testing.assert_equal(statistic([1.0, 3.5, 6.0], \"mode\"), \"Error\")"
   ]
  },
  {
   "cell_type": "markdown",
   "metadata": {},
   "source": [
    "**Question 3.3 (Numpy, 10 pts)** Estimate the value of $\\sqrt[3]{3}$ by simulation. In class, we saw an example of how to estimate $ \\pi $ using number random generation. In this question, you will estimate the cube root of 3 using a similar idea. \n",
    "\n",
    "You can generate uniform random numbers between 0 and 1 using the method `numpy.random.random` in the package `numpy`. For example:"
   ]
  },
  {
   "cell_type": "code",
   "execution_count": 9,
   "metadata": {},
   "outputs": [
    {
     "name": "stdout",
     "output_type": "stream",
     "text": [
      "[0.61135397 0.75681895 0.58715277 0.7212705  0.91821037]\n"
     ]
    }
   ],
   "source": [
    "import numpy.random\n",
    "x = numpy.random.random(size=5)\n",
    "print(x)"
   ]
  },
  {
   "cell_type": "markdown",
   "metadata": {},
   "source": [
    "`x` has an numpy array of 5 random numbers between 0 and 1. Notice that you can create a list of random numbers between 0 and 2 by simply multiplying `x` by 2:"
   ]
  },
  {
   "cell_type": "code",
   "execution_count": 10,
   "metadata": {},
   "outputs": [
    {
     "data": {
      "text/plain": [
       "array([1.22270793, 1.51363789, 1.17430555, 1.442541  , 1.83642074])"
      ]
     },
     "execution_count": 10,
     "metadata": {},
     "output_type": "execute_result"
    }
   ],
   "source": [
    "x*2"
   ]
  },
  {
   "cell_type": "markdown",
   "metadata": {},
   "source": [
    "We will use this fact to estimate the side $r$ of a cube whose volume is 3. It is easy to notice that $r \\leq 3$ because $r^3 = 3$. We will use this fact in the simulation. Specifically, we can estimate $\\sqrt[3]{3}$ by generating random cubes with sides between 0 and 3 with `numpy`. Then we can estimate the ratio $p$ of times these random cubes have a volume less or equal to 3. This ratio will represent approximately $ p \\approx \\frac{\\sqrt{3}}{3} $ (why is this?). Use this fact to estimate $\\sqrt[3]{3}$. **Of course do not use `np.power` or a similar function in any of your calculations.** Use a sample of 100000 random numbers.\n",
    "\n",
    "Below, create the following variables:\n",
    "\n",
    "- `s`: random sides of your cubes\n",
    "- `p`: ratio of times the random cubes are less or equal to 3\n",
    "- `sqrt3of3`: your estimation of the cube root of 3 based on `s` and `p`"
   ]
  },
  {
   "cell_type": "code",
   "execution_count": 11,
   "metadata": {
    "deletable": false,
    "nbgrader": {
     "checksum": "2d488b9ce0d64d863d724afc6ca32625",
     "grade": false,
     "grade_id": "cell-8804dcdb0db3c1bb",
     "locked": false,
     "schema_version": 1,
     "solution": true
    }
   },
   "outputs": [],
   "source": [
    "# Put your answer in this cell. Create variables s, p, and sqrt3of3 =  here\n",
    "import numpy as np\n",
    "import numpy.random\n",
    "s = numpy.random.random(size=100000)\n",
    "s = s*3\n",
    "condition = s * s * s\n",
    "r = s[condition <= 3]\n",
    "p = np.float64(len(r)/len(s))\n",
    "# since p = (cube root of 3)/3\n",
    "sqrt3of3 = 3 * p\n",
    "np.testing.assert_equal(type(p), np.float64)\n",
    "#raise NotImplementedError()"
   ]
  },
  {
   "cell_type": "code",
   "execution_count": 12,
   "metadata": {
    "deletable": false,
    "editable": false,
    "nbgrader": {
     "checksum": "eea50d6ebf70f1e3bf0d7d73e07f0909",
     "grade": true,
     "grade_id": "cell-78e5ab9e0ac7f0c1",
     "locked": true,
     "points": 2,
     "schema_version": 1,
     "solution": false
    }
   },
   "outputs": [],
   "source": [
    "# 3 pts\n",
    "np.testing.assert_equal(type(s), np.ndarray)\n",
    "np.testing.assert_equal(s.shape, (100000, ))"
   ]
  },
  {
   "cell_type": "code",
   "execution_count": 13,
   "metadata": {
    "deletable": false,
    "editable": false,
    "nbgrader": {
     "checksum": "791e4d21da3dcef147102b54a6de87cf",
     "grade": true,
     "grade_id": "cell-be49e25de2c28220",
     "locked": true,
     "points": 2,
     "schema_version": 1,
     "solution": false
    }
   },
   "outputs": [],
   "source": [
    "# 3 pts\n",
    "np.testing.assert_equal(type(p), np.float64)"
   ]
  },
  {
   "cell_type": "code",
   "execution_count": 14,
   "metadata": {
    "deletable": false,
    "editable": false,
    "nbgrader": {
     "checksum": "4e8c8dd7d5d2d2134f9787ad6d0c6a22",
     "grade": true,
     "grade_id": "cell-eb8c07afab2180dc",
     "locked": true,
     "points": 6,
     "schema_version": 1,
     "solution": false
    }
   },
   "outputs": [],
   "source": [
    "# 9 pts\n",
    "np.testing.assert_almost_equal(sqrt3of3, np.power(3, 1/3), decimal=2)"
   ]
  },
  {
   "cell_type": "markdown",
   "metadata": {},
   "source": [
    "## Matplotlib"
   ]
  },
  {
   "cell_type": "code",
   "execution_count": 15,
   "metadata": {},
   "outputs": [],
   "source": [
    "# import needed packages\n",
    "import matplotlib.pyplot as plt\n",
    "import numpy as np"
   ]
  },
  {
   "cell_type": "markdown",
   "metadata": {},
   "source": [
    "Use the following dataset"
   ]
  },
  {
   "cell_type": "code",
   "execution_count": 16,
   "metadata": {},
   "outputs": [],
   "source": [
    "# create the data\n",
    "group = np.array(['young', 'old', 'young', 'young', 'young', 'old', 'young', 'old', 'old', \n",
    "                  'young', 'young', 'old', 'young', 'young', 'old', 'old', 'old', 'old', 'old', \n",
    "                  'young', 'old', 'old', 'young', 'old', 'old', 'old', 'old', 'old', 'old', 'old', \n",
    "                  'young', 'young', 'young', 'old', 'young', 'old', 'old', 'old', 'young', 'young', \n",
    "                  'old', 'old', 'young', 'old', 'old', 'young', 'old', 'young', 'old', 'young', 'young', \n",
    "                  'young', 'old', 'young', 'old', 'old', 'young', 'young', 'old', 'old', 'young', 'old', \n",
    "                  'old', 'young', 'young', 'young', 'young', 'young', 'old', 'old', 'old', 'old', 'young', \n",
    "                  'old', 'old', 'young', 'old', 'old', 'old', 'old', 'old', 'old', 'young', 'young', \n",
    "                  'old', 'young', 'old', 'old', 'old', 'old', 'young', 'young', 'young', 'old',\n",
    "                  'old', 'young', 'old', 'old', 'young', 'young'])\n",
    "age = np.array([37.0, 41.0, 42.0, 41.0, 36.0, 46.0, 31.0, 43.0, 46.0, 36.0, 36.0, 43.0, 28.0, 35.0, \n",
    "                46.0, 51.0, 41.0, 51.0, 55.0, 38.0, 50.0, 52.0, 44.0, 43.0, 49.0, 52.0, 54.0, 42.0, \n",
    "                44.0, 51.0, 33.0, 38.0, 33.0, 47.0, 35.0, 47.0, 46.0, 40.0, 36.0, 35.0, 44.0, 44.0, \n",
    "                31.0, 51.0, 44.0, 34.0, 52.0, 36.0, 51.0, 38.0, 39.0, 29.0, 38.0, 42.0, 47.0, 44.0, \n",
    "                39.0, 24.0, 51.0, 41.0, 36.0, 41.0, 46.0, 28.0, 24.0, 32.0, 36.0, 36.0, 46.0, 55.0, \n",
    "                55.0, 38.0, 36.0, 47.0, 37.0, 29.0, 45.0, 44.0, 45.0, 44.0, 47.0, 44.0, 39.0, 35.0, \n",
    "                42.0, 35.0, 39.0, 47.0, 45.0, 41.0, 35.0, 41.0, 34.0, 41.0, 39.0, 34.0, 43.0, 42.0, \n",
    "                36.0, 32.0])\n",
    "income = np.array([38202.0, 44883.0, 42011.0, 35934.0, 35561.0, 42219.0, 35113.0, 42141.0, 41041.0, \n",
    "                   38442.0, 37445.0, 40634.0, 32318.0, 37991.0, 43268.0, 45893.0, 39100.0, 48929.0, \n",
    "                   47271.0, 36575.0, 44893.0, 49479.0, 37809.0, 41565.0, 43805.0, 43887.0, 49753.0, \n",
    "                   41668.0, 38260.0, 47663.0, 35522.0, 37105.0, 34757.0, 41890.0, 40052.0, 42313.0, \n",
    "                   40720.0, 37984.0, 40259.0, 33736.0, 45272.0, 42000.0, 31468.0, 51204.0, 40887.0, \n",
    "                   38974.0, 46151.0, 35729.0, 48820.0, 42052.0, 35463.0, 32899.0, 42328.0, 44504.0, \n",
    "                   45697.0, 42009.0, 41934.0, 31368.0, 47346.0, 39064.0, 35646.0, 41512.0, 46011.0, \n",
    "                   30096.0, 27235.0, 32728.0, 39859.0, 40774.0, 46112.0, 49337.0, 51348.0, 36289.0, \n",
    "                   40332.0, 47470.0, 36637.0, 31849.0, 40644.0, 44750.0, 47441.0, 40280.0, 44322.0, \n",
    "                   43532.0, 39243.0, 34646.0, 39483.0, 38488.0, 38063.0, 43645.0, 40608.0, 37451.0, \n",
    "                   33825.0, 38936.0, 36828.0, 40781.0, 40228.0, 34174.0, 38186.0, 41781.0, 31930.0, \n",
    "                   34096.0])"
   ]
  },
  {
   "cell_type": "markdown",
   "metadata": {},
   "source": [
    "**Question 3.4: (5 pts)** Below, plot the histogram of the income of the \"old\" population. Use the `group` variable to select from `income` the appropriate datapoints."
   ]
  },
  {
   "cell_type": "code",
   "execution_count": 20,
   "metadata": {
    "deletable": false,
    "nbgrader": {
     "checksum": "bcad54199136ad0864089c2d26b4a13c",
     "grade": true,
     "grade_id": "cell-7990846e56e9d7cc",
     "locked": false,
     "points": 5,
     "schema_version": 1,
     "solution": true
    }
   },
   "outputs": [
    {
     "data": {
      "image/png": "[encoded data removed]",
      "text/plain": [
       "<Figure size 432x288 with 1 Axes>"
      ]
     },
     "metadata": {
      "needs_background": "light"
     },
     "output_type": "display_data"
    }
   ],
   "source": [
    "# 3 pts\n",
    "index=np.where(group=='old')\n",
    "plt.hist(income[index])\n",
    "plt.title('histogram of the income of the old population')\n",
    "plt.show()\n",
    "#raise NotImplementedError()"
   ]
  },
  {
   "cell_type": "markdown",
   "metadata": {},
   "source": [
    "**Question 3.5:** (5 pts) Produce one scatter plot using `plt.scatter` to depic the relationship between `age` and `income`.  However, put the scatter plot of the 'young' group in green and the 'old' group in 'blue'. **The plot must have a legend describing the groups, a title describing the relationship plotted, and labels for both axes.**"
   ]
  },
  {
   "cell_type": "code",
   "execution_count": 21,
   "metadata": {
    "deletable": false,
    "nbgrader": {
     "checksum": "a7454070b7c395fce97347a5fa756bcd",
     "grade": true,
     "grade_id": "cell-29505be5567d1727",
     "locked": false,
     "points": 5,
     "schema_version": 1,
     "solution": true
    }
   },
   "outputs": [
    {
     "data": {
      "image/png": "[encoded data removed]",
      "text/plain": [
       "<Figure size 432x288 with 1 Axes>"
      ]
     },
     "metadata": {
      "needs_background": "light"
     },
     "output_type": "display_data"
    }
   ],
   "source": [
    "# 5 pts\n",
    "index1=np.where((group=='old'))\n",
    "index2=np.where((group=='young'))\n",
    "s1=plt.scatter(age[index1],income[index1],color='blue')\n",
    "s2=plt.scatter(age[index2],income[index2],color='green')\n",
    "plt.xlabel('age')\n",
    "plt.ylabel('income')\n",
    "plt.legend((s1,s2),('old','young'))\n",
    "plt.title('Relationship between age and income')\n",
    "plt.show()\n",
    "#raise NotImplementedError()"
   ]
  },
  {
   "cell_type": "markdown",
   "metadata": {},
   "source": [
    "# Pandas"
   ]
  },
  {
   "cell_type": "markdown",
   "metadata": {},
   "source": [
    "using a modified dataset from above"
   ]
  },
  {
   "cell_type": "code",
   "execution_count": 22,
   "metadata": {},
   "outputs": [],
   "source": [
    "# import needed packages\n",
    "import matplotlib.pyplot as plt\n",
    "import numpy as np\n",
    "import pandas as pd\n",
    "\n",
    "# create the data\n",
    "group2 = np.array(['young', 'old', 'young', 'young', 'young', 'old', 'young', 'old', 'old', 'young', \n",
    "                   'young', 'old', 'young', 'young', 'old', 'old', 'old', 'old', 'old', 'young', 'old', \n",
    "                   'old', 'young', 'old', 'old', 'old', 'old', 'old', 'old', 'old', 'young', 'young',\n",
    "                   'young', 'old', 'young', 'old', 'old', 'old', 'young', 'young', 'old', 'old', 'young', \n",
    "                   'old', 'old', 'young', 'old', 'young', 'old', 'young', 'young', 'young', 'old', 'young',\n",
    "                   'old', 'old', 'young', 'young', 'old', 'old', 'young', 'old', 'old', 'young', 'young',\n",
    "                   'young', 'young', 'young', 'old', 'old', 'old', 'old', 'young', 'old', 'old', 'young', \n",
    "                   'old', 'old', 'old', 'old', 'old', 'old', 'young', 'young', 'old', 'young', 'old', 'old',\n",
    "                   'old', 'old', 'young', 'young', 'young', 'old', 'old', 'young', 'old', 'old', 'young', 'young'])\n",
    "age2 = np.array([37.0, 41.0, 42.0, 41.0, 36.0, 46.0, 31.0, 43.0, 46.0, 36.0, 36.0, None, 28.0, 35.0, \n",
    "                 46.0, 51.0, 41.0, 51.0, 55.0, 38.0, 50.0, 52.0, 44.0, 43.0, 49.0, 52.0, 54.0, 42.0, \n",
    "                 44.0, 51.0, 33.0, 38.0, 33.0, 47.0, 35.0, 47.0, 46.0, 40.0, 36.0, 35.0, 44.0, 44.0, \n",
    "                 None, 51.0, 44.0, 34.0, 52.0, 36.0, 51.0, 38.0, 39.0, 29.0, 38.0, 42.0, 47.0, None, \n",
    "                 39.0, 24.0, 51.0, 41.0, 36.0, 41.0, 46.0, 28.0, 24.0, 32.0, 36.0, 36.0, 46.0, 55.0, \n",
    "                 55.0, 38.0, 36.0, 47.0, 37.0, 29.0, 45.0, 44.0, 45.0, 44.0, 47.0, 44.0, 39.0, 35.0, \n",
    "                 42.0, 35.0, 39.0, 47.0, 45.0, 41.0, 35.0, 41.0, 34.0, 41.0, 39.0, 34.0, 43.0, 42.0, \n",
    "                 36.0, 32.0], float)\n",
    "income2 = np.array([38202.0, 44883.0, 42011.0, 35934.0, 35561.0, 42219.0, 35113.0, 42141.0, 41041.0, \n",
    "                    38442.0, 37445.0, 40634.0, 32318.0, 37991.0, 43268.0, 45893.0, 39100.0, 48929.0, \n",
    "                    47271.0, 36575.0, 44893.0, 49479.0, 37809.0, 41565.0, 43805.0, 43887.0, 49753.0, \n",
    "                    41668.0, 38260.0, 47663.0, 35522.0, 37105.0, 34757.0, 41890.0, 40052.0, 42313.0,\n",
    "                    40720.0, 37984.0, 40259.0, None, 45272.0, 42000.0, 31468.0, 51204.0, 40887.0, \n",
    "                    38974.0, 46151.0, 35729.0, 48820.0, 42052.0, 35463.0, 32899.0, 42328.0, 44504.0, \n",
    "                    45697.0, 42009.0, 41934.0, 31368.0, 47346.0, 39064.0, 35646.0, 41512.0, 46011.0, \n",
    "                    30096.0, 27235.0, 32728.0, 39859.0, 40774.0, 46112.0, 49337.0, 51348.0, 36289.0,\n",
    "                    None, 47470.0, 36637.0, 31849.0, 40644.0, 44750.0, 47441.0, 40280.0, 44322.0, \n",
    "                    43532.0, 39243.0, 34646.0, 39483.0, 38488.0, 38063.0, 43645.0, 40608.0, 37451.0,\n",
    "                    33825.0, 38936.0, 36828.0, 40781.0, 40228.0, 34174.0, 38186.0, 41781.0, None, 34096.0], float)"
   ]
  },
  {
   "cell_type": "markdown",
   "metadata": {},
   "source": [
    "**Question 3.6:** (5 pts): Create a dataframe `df` that contains three columns with names `group`, `age`, and `income`, respectively, based on the variables `group2`, `age2`, and `income2` created in the cell above. Use the Pandas DataFrame functionality to compute the mean age and income of each group assign them to `avg_age` and `avg_income`"
   ]
  },
  {
   "cell_type": "code",
   "execution_count": 23,
   "metadata": {
    "deletable": false,
    "nbgrader": {
     "checksum": "fd5aaf025b5eabba335c90765131832e",
     "grade": false,
     "grade_id": "cell-aa8ea4eae878a704",
     "locked": false,
     "schema_version": 1,
     "solution": true
    }
   },
   "outputs": [],
   "source": [
    "# Create the variables df, avg_age, and avg_income below\n",
    "import pandas as pd\n",
    "data = {'group':group2,'age':age2,'income':income2}\n",
    "df = pd.DataFrame(data)\n",
    "#df_old = df[df['group']=='old']\n",
    "#df_young = df[df['group']=='young']\n",
    "avg_age = df['age'].mean()\n",
    "avg_income = df['income'].mean()\n",
    "#raise NotImplementedError()"
   ]
  },
  {
   "cell_type": "code",
   "execution_count": 24,
   "metadata": {
    "deletable": false,
    "editable": false,
    "nbgrader": {
     "checksum": "6196399fac9a92335499f34983d49da2",
     "grade": true,
     "grade_id": "cell-3754ac35fe34111a",
     "locked": true,
     "points": 5,
     "schema_version": 1,
     "solution": false
    }
   },
   "outputs": [],
   "source": [
    "# 5 pts\n",
    "np.testing.assert_equal(set(df.columns), {'age', 'group', 'income'})\n",
    "np.testing.assert_approx_equal(avg_age, 41.09, significant=1)\n",
    "np.testing.assert_approx_equal(avg_income, 40452.14, significant=1)"
   ]
  },
  {
   "cell_type": "markdown",
   "metadata": {},
   "source": [
    "**Question 3.7:** (5 pts) Standardize features. Standardized the age and income in the dataframe from Question 5.1. Standardization is the process of subtracting the mean of a feature and dividing the result by the standard deviation of the feature. Use the `apply` method of a dataframe to apply a function to the age and income series to achieve this result. Remember that `apply` will apply the function to all series so it will not work with the `group` series because it contains strings. Therefore, you must select the appropriate columns first. Create a variable `df2` with the resulting dataframe."
   ]
  },
  {
   "cell_type": "code",
   "execution_count": 25,
   "metadata": {
    "deletable": false,
    "nbgrader": {
     "checksum": "5566b83171846e605cf20008ef8a7627",
     "grade": false,
     "grade_id": "cell-8051461f466d9ac5",
     "locked": false,
     "schema_version": 1,
     "solution": true
    }
   },
   "outputs": [],
   "source": [
    "# create the dataframe df2 here\n",
    "data2 = {'group':group2,'age':age2,'income':income2}\n",
    "df2 = pd.DataFrame(data2)\n",
    "df2[['age','income']] = df2[['age','income']].apply(lambda x: (x - x.mean())/x.std())\n",
    "#raise NotImplementedError()\n",
    "\n"
   ]
  },
  {
   "cell_type": "code",
   "execution_count": 27,
   "metadata": {
    "deletable": false,
    "editable": false,
    "nbgrader": {
     "checksum": "ebafa800150667d4fb45685829c17045",
     "grade": true,
     "grade_id": "cell-4571ce3b6a33685a",
     "locked": true,
     "points": 5,
     "schema_version": 1,
     "solution": false
    }
   },
   "outputs": [],
   "source": [
    "# 5 points\n",
    "np.testing.assert_equal(set(df2.columns), {'age', 'group', 'income'})\n",
    "np.testing.assert_almost_equal(df2['age'].mean(), 0)\n",
    "np.testing.assert_almost_equal(df2['age'].std(), 1, decimal=1)\n",
    "np.testing.assert_almost_equal(df2['income'].mean(), 0)\n",
    "np.testing.assert_almost_equal(df2['income'].std(), 1, decimal=1)\n",
    "np.testing.assert_array_equal(df['group'], df2['group'])"
   ]
  }
 ],
 "metadata": {
  "kernelspec": {
   "display_name": "Python 3",
   "language": "python",
   "name": "python3"
  },
  "language_info": {
   "codemirror_mode": {
    "name": "ipython",
    "version": 3
   },
   "file_extension": ".py",
   "mimetype": "text/x-python",
   "name": "python",
   "nbconvert_exporter": "python",
   "pygments_lexer": "ipython3",
   "version": "3.6.6"
  },
  "name": "lab1-no-key",
  "notebookId": 3197279189044075
 },
 "nbformat": 4,
 "nbformat_minor": 1
}
